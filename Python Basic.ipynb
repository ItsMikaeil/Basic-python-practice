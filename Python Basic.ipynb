{
 "cells": [
  {
   "cell_type": "code",
   "execution_count": 1,
   "metadata": {},
   "outputs": [],
   "source": [
    "import numpy as np"
   ]
  },
  {
   "cell_type": "raw",
   "metadata": {},
   "source": [
    "Q1: write a program that print some words like:\n",
    "Bahar\n",
    "      bandar\n",
    "             shoma\n",
    "                   Bito besar namishavad"
   ]
  },
  {
   "cell_type": "markdown",
   "metadata": {},
   "source": [
    "\\n go to new line\n",
    "\n",
    "\\t do a right shift for sentence, which comme after it"
   ]
  },
  {
   "cell_type": "code",
   "execution_count": 2,
   "metadata": {},
   "outputs": [
    {
     "name": "stdout",
     "output_type": "stream",
     "text": [
      "Bahar \n",
      "\t bandar \n",
      "\t\t shoma \n",
      "\t\t\t Bito besar namishavad \n"
     ]
    }
   ],
   "source": [
    "print('Bahar \\n\\t bandar \\n\\t\\t shoma \\n\\t\\t\\t Bito besar namishavad ')"
   ]
  },
  {
   "cell_type": "raw",
   "metadata": {},
   "source": [
    "Q2: write a program to give us version of our python"
   ]
  },
  {
   "cell_type": "code",
   "execution_count": 3,
   "metadata": {},
   "outputs": [
    {
     "name": "stdout",
     "output_type": "stream",
     "text": [
      "python version\n",
      "\n",
      "3.7.13 (default, Mar 29 2022, 02:18:16) \n",
      "[GCC 7.5.0]\n",
      "\n",
      "version info\n",
      "sys.version_info(major=3, minor=7, micro=13, releaselevel='final', serial=0)\n"
     ]
    }
   ],
   "source": [
    "import sys\n",
    "\n",
    "print('python version\\n')\n",
    "print(sys.version)\n",
    "\n",
    "print('\\nversion info')\n",
    "print(sys.version_info)"
   ]
  },
  {
   "cell_type": "raw",
   "metadata": {},
   "source": [
    "Q3: write a program to display the current date and time"
   ]
  },
  {
   "cell_type": "markdown",
   "metadata": {},
   "source": [
    " strftime is for \"formatting time\""
   ]
  },
  {
   "cell_type": "code",
   "execution_count": 4,
   "metadata": {},
   "outputs": [
    {
     "name": "stdout",
     "output_type": "stream",
     "text": [
      "current date and time\n",
      "2021-07-31  18:19:06\n"
     ]
    }
   ],
   "source": [
    "import datetime\n",
    "\n",
    "now= datetime.datetime.now()\n",
    "\n",
    "print('current date and time')\n",
    "print(now.strftime('%Y-%m-%d  %H:%M:%S'))"
   ]
  },
  {
   "cell_type": "raw",
   "metadata": {},
   "source": [
    "Q4: write a program,which accept the radius of a circle from the user and compute the area"
   ]
  },
  {
   "cell_type": "code",
   "execution_count": 5,
   "metadata": {},
   "outputs": [
    {
     "name": "stdout",
     "output_type": "stream",
     "text": [
      "Input please the radius of circle: \n",
      "\t\t\t\t\t3\n",
      "The area of the circle with radius 3.0 is:\n",
      "\t\t\t\t\t 28.274333882308138\n"
     ]
    }
   ],
   "source": [
    "from math import pi\n",
    "radius= float(input('Input please the radius of circle: \\n\\t\\t\\t\\t\\t'))\n",
    "print('The area of the circle with radius '+ str(radius)+ ' is:\\n\\t\\t\\t\\t\\t', pi*radius**2)"
   ]
  },
  {
   "cell_type": "raw",
   "metadata": {},
   "source": [
    "Q5: write a Python program which accepts the users first and last name and print them in \n",
    "reverse order with a space between them"
   ]
  },
  {
   "cell_type": "markdown",
   "metadata": {},
   "source": [
    "learn how to use in print sth using {}"
   ]
  },
  {
   "cell_type": "code",
   "execution_count": 6,
   "metadata": {},
   "outputs": [
    {
     "name": "stdout",
     "output_type": "stream",
     "text": [
      "Please inter your first name: 3\n",
      "Please inter your first name: 3\n",
      "Last name and First name is: 3 3\n"
     ]
    }
   ],
   "source": [
    "fname= input('Please inter your first name: ')\n",
    "lname= input('Please inter your first name: ')\n",
    "\n",
    "print('Last name and First name is: {} {}'.format(lname,fname))"
   ]
  },
  {
   "cell_type": "raw",
   "metadata": {},
   "source": [
    "Q6: Write a Python program which accepts a sequence of comma-separated numbers from user and generate a list and a tuple with those numbers."
   ]
  },
  {
   "cell_type": "code",
   "execution_count": 7,
   "metadata": {},
   "outputs": [
    {
     "name": "stdout",
     "output_type": "stream",
     "text": [
      "Please inter your comma-seprated numbers:3\n",
      "list:\n",
      "\t ['3'] \t\n",
      "tuple:\n",
      "\t ('3',)\n"
     ]
    }
   ],
   "source": [
    "input_NUM=input('Please inter your comma-seprated numbers:').split(',')\n",
    "numbers=[i for i in input_NUM]\n",
    "\n",
    "print('list:\\n\\t' ,numbers,'\\t')\n",
    "print('tuple:\\n\\t' ,tuple(input_NUM))"
   ]
  },
  {
   "cell_type": "raw",
   "metadata": {},
   "source": [
    "Q7: Write a Python program to accept a filename from the user and print the extension of that. Go to the editor\n",
    "Sample filename : abc.java "
   ]
  },
  {
   "cell_type": "code",
   "execution_count": 8,
   "metadata": {},
   "outputs": [
    {
     "name": "stdout",
     "output_type": "stream",
     "text": [
      "3\n"
     ]
    },
    {
     "ename": "IndexError",
     "evalue": "list index out of range",
     "output_type": "error",
     "traceback": [
      "\u001b[0;31m---------------------------------------------------------------------------\u001b[0m",
      "\u001b[0;31mIndexError\u001b[0m                                Traceback (most recent call last)",
      "\u001b[0;32m<ipython-input-8-793658962526>\u001b[0m in \u001b[0;36m<module>\u001b[0;34m\u001b[0m\n\u001b[1;32m      1\u001b[0m \u001b[0mtname\u001b[0m\u001b[0;34m=\u001b[0m \u001b[0minput\u001b[0m\u001b[0;34m(\u001b[0m\u001b[0;34m)\u001b[0m\u001b[0;34m.\u001b[0m\u001b[0msplit\u001b[0m\u001b[0;34m(\u001b[0m\u001b[0;34m'.'\u001b[0m\u001b[0;34m)\u001b[0m\u001b[0;34m\u001b[0m\u001b[0;34m\u001b[0m\u001b[0m\n\u001b[0;32m----> 2\u001b[0;31m \u001b[0mprint\u001b[0m\u001b[0;34m(\u001b[0m\u001b[0mtname\u001b[0m\u001b[0;34m[\u001b[0m\u001b[0;36m1\u001b[0m\u001b[0;34m]\u001b[0m\u001b[0;34m)\u001b[0m\u001b[0;34m\u001b[0m\u001b[0;34m\u001b[0m\u001b[0m\n\u001b[0m",
      "\u001b[0;31mIndexError\u001b[0m: list index out of range"
     ]
    }
   ],
   "source": [
    "tname= input().split('.')\n",
    "print(tname[1])"
   ]
  },
  {
   "cell_type": "markdown",
   "metadata": {},
   "source": [
    "str() and repr() both are used to get a string representation of object."
   ]
  },
  {
   "cell_type": "code",
   "execution_count": 9,
   "metadata": {},
   "outputs": [
    {
     "name": "stdout",
     "output_type": "stream",
     "text": [
      "3\n",
      "The extension is: '3'\n"
     ]
    }
   ],
   "source": [
    "tname1= input().split('.')\n",
    "print('The extension is:', repr(tname1[-1]))"
   ]
  },
  {
   "cell_type": "raw",
   "metadata": {},
   "source": [
    "Q8:Write a Python program to display the first and last colors from the following list. \n",
    "color_list = [\"Red\",\"Green\",\"White\" ,\"Black\"]"
   ]
  },
  {
   "cell_type": "markdown",
   "metadata": {},
   "source": [
    "'%s %s' %               using this syntax we can define how two argument are away from each other"
   ]
  },
  {
   "cell_type": "code",
   "execution_count": 10,
   "metadata": {},
   "outputs": [
    {
     "name": "stdout",
     "output_type": "stream",
     "text": [
      "Red Black\n",
      "Red Black\n"
     ]
    }
   ],
   "source": [
    "color_list = [\"Red\",\"Green\",\"White\" ,\"Black\"]\n",
    "print('%s %s' %(color_list[0],color_list[-1]))\n",
    "print(color_list[0], color_list[-1])"
   ]
  },
  {
   "cell_type": "raw",
   "metadata": {},
   "source": [
    "Q9: Write a Python program to display the examination schedule. (extract the date from exam_st_date). \n",
    "exam_st_date = (11, 12, 2014)\n",
    "Sample Output : The examination will start from : 11 / 12 / 2014"
   ]
  },
  {
   "cell_type": "code",
   "execution_count": 11,
   "metadata": {},
   "outputs": [
    {
     "name": "stdout",
     "output_type": "stream",
     "text": [
      "The time of exam is: 11 / 12 / 2014\n",
      "The time of exam is: 11 / 12 / 2014\n",
      "The time of exam is: 11 / 12 / 2014\n",
      "The time of exam is: 11 / 12 / 2014\n"
     ]
    }
   ],
   "source": [
    "exam_st_date = (11, 12, 2014)\n",
    "print('The time of exam is: {} / {} / {}'.format(exam_st_date[0], exam_st_date[1], exam_st_date[2]))\n",
    "print('The time of exam is:'+ ' %s / %s / %s'%(exam_st_date[0], exam_st_date[1], exam_st_date[2]))\n",
    "print('The time of exam is: %s / %s / %s'%(exam_st_date[0], exam_st_date[1], exam_st_date[2]))\n",
    "print('The time of exam is: %i / %i / %i'%(exam_st_date[0], exam_st_date[1], exam_st_date[2]))"
   ]
  },
  {
   "cell_type": "raw",
   "metadata": {},
   "source": [
    "Q10:  Write a Python program that accepts an integer (n) and computes the value of n+nn+nnn.\n",
    "Sample value of n is 5\n",
    "Expected Result : 615"
   ]
  },
  {
   "cell_type": "code",
   "execution_count": 12,
   "metadata": {},
   "outputs": [
    {
     "name": "stdout",
     "output_type": "stream",
     "text": [
      "Please inter your number: 3\n"
     ]
    },
    {
     "data": {
      "text/plain": [
       "369"
      ]
     },
     "execution_count": 12,
     "metadata": {},
     "output_type": "execute_result"
    }
   ],
   "source": [
    "number= int(input('Please inter your number: '))\n",
    "\n",
    "output= number + (number*11) + (number*111)\n",
    "output"
   ]
  },
  {
   "cell_type": "code",
   "execution_count": 13,
   "metadata": {},
   "outputs": [
    {
     "name": "stdout",
     "output_type": "stream",
     "text": [
      "Please inter your number: 3\n",
      "369\n"
     ]
    }
   ],
   "source": [
    "number= str(input('Please inter your number: '))\n",
    "\n",
    "\n",
    "a= int(number)\n",
    "b=int(number+number)\n",
    "c= int(number+number+number)\n",
    "print(a+b+c)"
   ]
  },
  {
   "cell_type": "code",
   "execution_count": 14,
   "metadata": {},
   "outputs": [
    {
     "name": "stdout",
     "output_type": "stream",
     "text": [
      "Please inter your number: 3\n",
      "369\n"
     ]
    }
   ],
   "source": [
    "number= str(input('Please inter your number: '))\n",
    "\n",
    "\n",
    "a= int(number)\n",
    "b=int(2*number)  # 2*number = number+number\n",
    "c= int(3*number) # 3*number = number+number+number\n",
    "print(a+b+c)"
   ]
  },
  {
   "cell_type": "code",
   "execution_count": 15,
   "metadata": {},
   "outputs": [
    {
     "name": "stdout",
     "output_type": "stream",
     "text": [
      "Input an intiger: 3\n"
     ]
    },
    {
     "data": {
      "text/plain": [
       "369"
      ]
     },
     "execution_count": 15,
     "metadata": {},
     "output_type": "execute_result"
    }
   ],
   "source": [
    "a= int(input('Input an intiger: '))\n",
    "n1= int('%s'%a)\n",
    "n2= int('%s%s'%(a,a))\n",
    "n3= int('%s%s%s'%(a,a,a))\n",
    "n1+n2+n3"
   ]
  },
  {
   "cell_type": "raw",
   "metadata": {},
   "source": [
    "Q11: Write a Python program to print the documents (syntax, description etc.) of Python built-in function(s).\n",
    "Sample function : abs()\n",
    "Expected Result :\n",
    "abs(number) -> number\n",
    "Return the absolute value of the argument."
   ]
  },
  {
   "cell_type": "code",
   "execution_count": 16,
   "metadata": {},
   "outputs": [
    {
     "name": "stdout",
     "output_type": "stream",
     "text": [
      "Help on built-in function abs in module builtins:\n",
      "\n",
      "abs(x, /)\n",
      "    Return the absolute value of the argument.\n",
      "\n",
      "None\n"
     ]
    }
   ],
   "source": [
    "abs(-23.54)\n",
    "print(help(abs))"
   ]
  },
  {
   "cell_type": "code",
   "execution_count": 17,
   "metadata": {},
   "outputs": [
    {
     "name": "stdout",
     "output_type": "stream",
     "text": [
      "Return the absolute value of the argument.\n"
     ]
    }
   ],
   "source": [
    "print(abs.__doc__)"
   ]
  },
  {
   "cell_type": "code",
   "execution_count": 18,
   "metadata": {},
   "outputs": [
    {
     "name": "stdout",
     "output_type": "stream",
     "text": [
      "Help on built-in function print in module builtins:\n",
      "\n",
      "print(...)\n",
      "    print(value, ..., sep=' ', end='\\n', file=sys.stdout, flush=False)\n",
      "    \n",
      "    Prints the values to a stream, or to sys.stdout by default.\n",
      "    Optional keyword arguments:\n",
      "    file:  a file-like object (stream); defaults to the current sys.stdout.\n",
      "    sep:   string inserted between values, default a space.\n",
      "    end:   string appended after the last value, default a newline.\n",
      "    flush: whether to forcibly flush the stream.\n",
      "\n"
     ]
    }
   ],
   "source": [
    "help(print)"
   ]
  },
  {
   "cell_type": "code",
   "execution_count": 19,
   "metadata": {},
   "outputs": [
    {
     "name": "stdout",
     "output_type": "stream",
     "text": [
      "Help on dict object:\n",
      "\n",
      "class dict(object)\n",
      " |  dict() -> new empty dictionary\n",
      " |  dict(mapping) -> new dictionary initialized from a mapping object's\n",
      " |      (key, value) pairs\n",
      " |  dict(iterable) -> new dictionary initialized as if via:\n",
      " |      d = {}\n",
      " |      for k, v in iterable:\n",
      " |          d[k] = v\n",
      " |  dict(**kwargs) -> new dictionary initialized with the name=value pairs\n",
      " |      in the keyword argument list.  For example:  dict(one=1, two=2)\n",
      " |  \n",
      " |  Methods defined here:\n",
      " |  \n",
      " |  __contains__(self, key, /)\n",
      " |      True if the dictionary has the specified key, else False.\n",
      " |  \n",
      " |  __delitem__(self, key, /)\n",
      " |      Delete self[key].\n",
      " |  \n",
      " |  __eq__(self, value, /)\n",
      " |      Return self==value.\n",
      " |  \n",
      " |  __ge__(self, value, /)\n",
      " |      Return self>=value.\n",
      " |  \n",
      " |  __getattribute__(self, name, /)\n",
      " |      Return getattr(self, name).\n",
      " |  \n",
      " |  __getitem__(...)\n",
      " |      x.__getitem__(y) <==> x[y]\n",
      " |  \n",
      " |  __gt__(self, value, /)\n",
      " |      Return self>value.\n",
      " |  \n",
      " |  __init__(self, /, *args, **kwargs)\n",
      " |      Initialize self.  See help(type(self)) for accurate signature.\n",
      " |  \n",
      " |  __iter__(self, /)\n",
      " |      Implement iter(self).\n",
      " |  \n",
      " |  __le__(self, value, /)\n",
      " |      Return self<=value.\n",
      " |  \n",
      " |  __len__(self, /)\n",
      " |      Return len(self).\n",
      " |  \n",
      " |  __lt__(self, value, /)\n",
      " |      Return self<value.\n",
      " |  \n",
      " |  __ne__(self, value, /)\n",
      " |      Return self!=value.\n",
      " |  \n",
      " |  __repr__(self, /)\n",
      " |      Return repr(self).\n",
      " |  \n",
      " |  __setitem__(self, key, value, /)\n",
      " |      Set self[key] to value.\n",
      " |  \n",
      " |  __sizeof__(...)\n",
      " |      D.__sizeof__() -> size of D in memory, in bytes\n",
      " |  \n",
      " |  clear(...)\n",
      " |      D.clear() -> None.  Remove all items from D.\n",
      " |  \n",
      " |  copy(...)\n",
      " |      D.copy() -> a shallow copy of D\n",
      " |  \n",
      " |  get(self, key, default=None, /)\n",
      " |      Return the value for key if key is in the dictionary, else default.\n",
      " |  \n",
      " |  items(...)\n",
      " |      D.items() -> a set-like object providing a view on D's items\n",
      " |  \n",
      " |  keys(...)\n",
      " |      D.keys() -> a set-like object providing a view on D's keys\n",
      " |  \n",
      " |  pop(...)\n",
      " |      D.pop(k[,d]) -> v, remove specified key and return the corresponding value.\n",
      " |      If key is not found, d is returned if given, otherwise KeyError is raised\n",
      " |  \n",
      " |  popitem(...)\n",
      " |      D.popitem() -> (k, v), remove and return some (key, value) pair as a\n",
      " |      2-tuple; but raise KeyError if D is empty.\n",
      " |  \n",
      " |  setdefault(self, key, default=None, /)\n",
      " |      Insert key with a value of default if key is not in the dictionary.\n",
      " |      \n",
      " |      Return the value for key if key is in the dictionary, else default.\n",
      " |  \n",
      " |  update(...)\n",
      " |      D.update([E, ]**F) -> None.  Update D from dict/iterable E and F.\n",
      " |      If E is present and has a .keys() method, then does:  for k in E: D[k] = E[k]\n",
      " |      If E is present and lacks a .keys() method, then does:  for k, v in E: D[k] = v\n",
      " |      In either case, this is followed by: for k in F:  D[k] = F[k]\n",
      " |  \n",
      " |  values(...)\n",
      " |      D.values() -> an object providing a view on D's values\n",
      " |  \n",
      " |  ----------------------------------------------------------------------\n",
      " |  Class methods defined here:\n",
      " |  \n",
      " |  fromkeys(iterable, value=None, /) from builtins.type\n",
      " |      Create a new dictionary with keys from iterable and values set to value.\n",
      " |  \n",
      " |  ----------------------------------------------------------------------\n",
      " |  Static methods defined here:\n",
      " |  \n",
      " |  __new__(*args, **kwargs) from builtins.type\n",
      " |      Create and return a new object.  See help(type) for accurate signature.\n",
      " |  \n",
      " |  ----------------------------------------------------------------------\n",
      " |  Data and other attributes defined here:\n",
      " |  \n",
      " |  __hash__ = None\n",
      "\n"
     ]
    }
   ],
   "source": [
    "help({})"
   ]
  },
  {
   "cell_type": "code",
   "execution_count": 20,
   "metadata": {},
   "outputs": [
    {
     "name": "stdout",
     "output_type": "stream",
     "text": [
      "dict() -> new empty dictionary\n",
      "dict(mapping) -> new dictionary initialized from a mapping object's\n",
      "    (key, value) pairs\n",
      "dict(iterable) -> new dictionary initialized as if via:\n",
      "    d = {}\n",
      "    for k, v in iterable:\n",
      "        d[k] = v\n",
      "dict(**kwargs) -> new dictionary initialized with the name=value pairs\n",
      "    in the keyword argument list.  For example:  dict(one=1, two=2)\n"
     ]
    }
   ],
   "source": [
    "print({}.__doc__)"
   ]
  },
  {
   "cell_type": "code",
   "execution_count": 21,
   "metadata": {},
   "outputs": [
    {
     "data": {
      "text/plain": [
       "\"str(object='') -> str\\nstr(bytes_or_buffer[, encoding[, errors]]) -> str\\n\\nCreate a new string object from the given object. If encoding or\\nerrors is specified, then the object must expose a data buffer\\nthat will be decoded using the given encoding and error handler.\\nOtherwise, returns the result of object.__str__() (if defined)\\nor repr(object).\\nencoding defaults to sys.getdefaultencoding().\\nerrors defaults to 'strict'.\""
      ]
     },
     "execution_count": 21,
     "metadata": {},
     "output_type": "execute_result"
    }
   ],
   "source": [
    "'%i'.__doc__"
   ]
  },
  {
   "cell_type": "raw",
   "metadata": {},
   "source": [
    "Q12: Write a Python program to print the calendar of a given month and year.\n",
    "Note : Use 'calendar' module. "
   ]
  },
  {
   "cell_type": "code",
   "execution_count": 22,
   "metadata": {},
   "outputs": [
    {
     "name": "stdout",
     "output_type": "stream",
     "text": [
      "Input the year: 3\n",
      "Input the month: 3\n",
      "      March 3\n",
      "Mo Tu We Th Fr Sa Su\n",
      "                1  2\n",
      " 3  4  5  6  7  8  9\n",
      "10 11 12 13 14 15 16\n",
      "17 18 19 20 21 22 23\n",
      "24 25 26 27 28 29 30\n",
      "31\n",
      "\n"
     ]
    }
   ],
   "source": [
    "import calendar\n",
    "\n",
    "y= int(input('Input the year: '))\n",
    "m= int(input('Input the month: '))\n",
    "\n",
    "print(calendar.month(y, m))"
   ]
  },
  {
   "cell_type": "raw",
   "metadata": {},
   "source": [
    "Q13: Write a Python program to print:   \n",
    "\n",
    "a string that you \"don't\" have to escape\n",
    "This\n",
    "is a ....... multi-line\n",
    "heredoc string --------> example"
   ]
  },
  {
   "cell_type": "code",
   "execution_count": 23,
   "metadata": {},
   "outputs": [
    {
     "name": "stdout",
     "output_type": "stream",
     "text": [
      "a string that you 'don't' have to escape \n",
      "This\n",
      "is a ....... multi-line\n",
      "heredoc string --------> example \n"
     ]
    }
   ],
   "source": [
    "print('''a string that you 'don't' have to escape \\nThis\\nis a ....... multi-line\\nheredoc string --------> example ''')"
   ]
  },
  {
   "cell_type": "code",
   "execution_count": 24,
   "metadata": {},
   "outputs": [
    {
     "name": "stdout",
     "output_type": "stream",
     "text": [
      "a string that you 'don't' have to escape \n",
      "This\n",
      "is a ....... multi-line\n",
      "heredoc string --------> example \n",
      " \n"
     ]
    }
   ],
   "source": [
    "print('''a string that you 'don't' have to escape \n",
    "This\n",
    "is a ....... multi-line\n",
    "heredoc string --------> example \n",
    " ''')"
   ]
  },
  {
   "cell_type": "code",
   "execution_count": 25,
   "metadata": {},
   "outputs": [
    {
     "ename": "SyntaxError",
     "evalue": "invalid syntax (<ipython-input-25-583081b1946a>, line 1)",
     "output_type": "error",
     "traceback": [
      "\u001b[0;36m  File \u001b[0;32m\"<ipython-input-25-583081b1946a>\"\u001b[0;36m, line \u001b[0;32m1\u001b[0m\n\u001b[0;31m    Q14: Write a Python program to calculate number of days between two dates.\u001b[0m\n\u001b[0m               ^\u001b[0m\n\u001b[0;31mSyntaxError\u001b[0m\u001b[0;31m:\u001b[0m invalid syntax\n"
     ]
    }
   ],
   "source": [
    "Q14: Write a Python program to calculate number of days between two dates.\n",
    "\n",
    "Sample dates : (2014, 7, 2), (2014, 7, 11)\n",
    "Expected output : 9 days "
   ]
  },
  {
   "cell_type": "code",
   "execution_count": 26,
   "metadata": {},
   "outputs": [
    {
     "name": "stdout",
     "output_type": "stream",
     "text": [
      "1285\n"
     ]
    }
   ],
   "source": [
    "from datetime import date\n",
    "f_date= date(2011 ,1, 3 )\n",
    "l_date= date(2014, 7, 11)\n",
    "\n",
    "delta= l_date - f_date\n",
    "print(delta.days)"
   ]
  },
  {
   "cell_type": "raw",
   "metadata": {},
   "source": [
    "Q15: Write a Python program to get the volume of a sphere with radius 6."
   ]
  },
  {
   "cell_type": "code",
   "execution_count": 27,
   "metadata": {},
   "outputs": [
    {
     "name": "stdout",
     "output_type": "stream",
     "text": [
      "Please input the radius: 3\n",
      "The volume of the sphere is:\n",
      " 0.2920065876976423\n"
     ]
    }
   ],
   "source": [
    "from math import pi\n",
    "\n",
    "r= float(input('Please input the radius: '))\n",
    "volume= (4*pi*r**3)%3\n",
    "print('The volume of the sphere is:\\n',volume)"
   ]
  },
  {
   "cell_type": "raw",
   "metadata": {},
   "source": [
    "Q16: Write a Python program to get the difference between a given number and 17, if the number is greater than 17 return double the absolute difference."
   ]
  },
  {
   "cell_type": "code",
   "execution_count": 28,
   "metadata": {},
   "outputs": [
    {
     "name": "stdout",
     "output_type": "stream",
     "text": [
      "Please input your number:3\n",
      "14.0\n"
     ]
    }
   ],
   "source": [
    "number= float(input('Please input your number:'))\n",
    "a= 17\n",
    "\n",
    "if (a-number)>0:\n",
    "    print(a-number)\n",
    "else:\n",
    "    print((a-number)**2)"
   ]
  },
  {
   "cell_type": "raw",
   "metadata": {},
   "source": [
    "Q17:  Write a Python program to test whether a number is within 100 of 1000 or 2000"
   ]
  },
  {
   "cell_type": "code",
   "execution_count": 29,
   "metadata": {},
   "outputs": [
    {
     "name": "stdout",
     "output_type": "stream",
     "text": [
      "True\n",
      "True\n",
      "False\n",
      "False\n"
     ]
    }
   ],
   "source": [
    "def near_thousand(n):\n",
    "    return ((abs(1000-n)<=100 ) or (abs(2000-n)<=100))\n",
    "\n",
    "\n",
    "print(near_thousand(1000))\n",
    "print(near_thousand(900))\n",
    "print(near_thousand(800))\n",
    "print(near_thousand(2200))"
   ]
  },
  {
   "cell_type": "raw",
   "metadata": {},
   "source": [
    "Q18:  Write a Python program to calculate the sum of three given numbers, if the values are equal then return three times of their sum."
   ]
  },
  {
   "cell_type": "code",
   "execution_count": 30,
   "metadata": {},
   "outputs": [
    {
     "name": "stdout",
     "output_type": "stream",
     "text": [
      "Please give 3 number :3\n"
     ]
    },
    {
     "ename": "IndexError",
     "evalue": "list index out of range",
     "output_type": "error",
     "traceback": [
      "\u001b[0;31m---------------------------------------------------------------------------\u001b[0m",
      "\u001b[0;31mIndexError\u001b[0m                                Traceback (most recent call last)",
      "\u001b[0;32m<ipython-input-30-5673546ed08e>\u001b[0m in \u001b[0;36m<module>\u001b[0;34m\u001b[0m\n\u001b[1;32m      1\u001b[0m \u001b[0mnumbers\u001b[0m\u001b[0;34m=\u001b[0m \u001b[0;34m[\u001b[0m\u001b[0mi\u001b[0m \u001b[0;32mfor\u001b[0m \u001b[0mi\u001b[0m \u001b[0;32min\u001b[0m \u001b[0minput\u001b[0m\u001b[0;34m(\u001b[0m\u001b[0;34m'Please give 3 number :'\u001b[0m\u001b[0;34m)\u001b[0m\u001b[0;34m.\u001b[0m\u001b[0msplit\u001b[0m\u001b[0;34m(\u001b[0m\u001b[0;34m','\u001b[0m\u001b[0;34m)\u001b[0m\u001b[0;34m]\u001b[0m\u001b[0;34m\u001b[0m\u001b[0;34m\u001b[0m\u001b[0m\n\u001b[1;32m      2\u001b[0m \u001b[0;34m\u001b[0m\u001b[0m\n\u001b[0;32m----> 3\u001b[0;31m \u001b[0;32mif\u001b[0m \u001b[0mnumbers\u001b[0m\u001b[0;34m[\u001b[0m\u001b[0;36m0\u001b[0m\u001b[0;34m]\u001b[0m \u001b[0;34m==\u001b[0m \u001b[0mnumbers\u001b[0m\u001b[0;34m[\u001b[0m\u001b[0;36m1\u001b[0m\u001b[0;34m]\u001b[0m \u001b[0;34m==\u001b[0m \u001b[0mnumbers\u001b[0m\u001b[0;34m[\u001b[0m\u001b[0;36m2\u001b[0m\u001b[0;34m]\u001b[0m\u001b[0;34m:\u001b[0m\u001b[0;34m\u001b[0m\u001b[0;34m\u001b[0m\u001b[0m\n\u001b[0m\u001b[1;32m      4\u001b[0m     \u001b[0mprint\u001b[0m\u001b[0;34m(\u001b[0m\u001b[0;34m(\u001b[0m\u001b[0;36m3\u001b[0m\u001b[0;34m*\u001b[0m \u001b[0mint\u001b[0m\u001b[0;34m(\u001b[0m\u001b[0mnumbers\u001b[0m\u001b[0;34m[\u001b[0m\u001b[0;36m0\u001b[0m\u001b[0;34m]\u001b[0m\u001b[0;34m)\u001b[0m\u001b[0;34m)\u001b[0m\u001b[0;34m*\u001b[0m\u001b[0;36m3\u001b[0m\u001b[0;34m)\u001b[0m\u001b[0;34m\u001b[0m\u001b[0;34m\u001b[0m\u001b[0m\n\u001b[1;32m      5\u001b[0m \u001b[0;32melse\u001b[0m\u001b[0;34m:\u001b[0m\u001b[0;34m\u001b[0m\u001b[0;34m\u001b[0m\u001b[0m\n",
      "\u001b[0;31mIndexError\u001b[0m: list index out of range"
     ]
    }
   ],
   "source": [
    "numbers= [i for i in input('Please give 3 number :').split(',')]\n",
    "    \n",
    "if numbers[0] == numbers[1] == numbers[2]:\n",
    "    print((3* int(numbers[0]))*3)\n",
    "else:\n",
    "    print (int(numbers[0]) + int(numbers[1]) + int(numbers[2]))"
   ]
  },
  {
   "cell_type": "code",
   "execution_count": 31,
   "metadata": {},
   "outputs": [
    {
     "name": "stdout",
     "output_type": "stream",
     "text": [
      "Please give 3 number :3\n"
     ]
    },
    {
     "ename": "IndexError",
     "evalue": "list index out of range",
     "output_type": "error",
     "traceback": [
      "\u001b[0;31m---------------------------------------------------------------------------\u001b[0m",
      "\u001b[0;31mIndexError\u001b[0m                                Traceback (most recent call last)",
      "\u001b[0;32m<ipython-input-31-ae64c5cb7dec>\u001b[0m in \u001b[0;36m<module>\u001b[0;34m\u001b[0m\n\u001b[1;32m      5\u001b[0m     \u001b[0mnumbers\u001b[0m\u001b[0;34m.\u001b[0m\u001b[0mappend\u001b[0m\u001b[0;34m(\u001b[0m\u001b[0mint\u001b[0m\u001b[0;34m(\u001b[0m\u001b[0mi\u001b[0m\u001b[0;34m)\u001b[0m\u001b[0;34m)\u001b[0m\u001b[0;34m\u001b[0m\u001b[0;34m\u001b[0m\u001b[0m\n\u001b[1;32m      6\u001b[0m \u001b[0;34m\u001b[0m\u001b[0m\n\u001b[0;32m----> 7\u001b[0;31m \u001b[0;32mif\u001b[0m \u001b[0mnumbers\u001b[0m\u001b[0;34m[\u001b[0m\u001b[0;36m0\u001b[0m\u001b[0;34m]\u001b[0m \u001b[0;34m==\u001b[0m \u001b[0mnumbers\u001b[0m\u001b[0;34m[\u001b[0m\u001b[0;36m1\u001b[0m\u001b[0;34m]\u001b[0m \u001b[0;34m==\u001b[0m \u001b[0mnumbers\u001b[0m\u001b[0;34m[\u001b[0m\u001b[0;36m2\u001b[0m\u001b[0;34m]\u001b[0m\u001b[0;34m:\u001b[0m\u001b[0;34m\u001b[0m\u001b[0;34m\u001b[0m\u001b[0m\n\u001b[0m\u001b[1;32m      8\u001b[0m     \u001b[0mprint\u001b[0m\u001b[0;34m(\u001b[0m\u001b[0;34m(\u001b[0m\u001b[0;36m3\u001b[0m\u001b[0;34m*\u001b[0m \u001b[0mnumbers\u001b[0m\u001b[0;34m[\u001b[0m\u001b[0;36m0\u001b[0m\u001b[0;34m]\u001b[0m\u001b[0;34m)\u001b[0m\u001b[0;34m*\u001b[0m\u001b[0;36m3\u001b[0m\u001b[0;34m)\u001b[0m\u001b[0;34m\u001b[0m\u001b[0;34m\u001b[0m\u001b[0m\n\u001b[1;32m      9\u001b[0m \u001b[0;32melse\u001b[0m\u001b[0;34m:\u001b[0m\u001b[0;34m\u001b[0m\u001b[0;34m\u001b[0m\u001b[0m\n",
      "\u001b[0;31mIndexError\u001b[0m: list index out of range"
     ]
    }
   ],
   "source": [
    "number= input('Please give 3 number :').split(',')\n",
    "\n",
    "numbers=[]\n",
    "for i in number:\n",
    "    numbers.append(int(i))\n",
    "    \n",
    "if numbers[0] == numbers[1] == numbers[2]:\n",
    "    print((3* numbers[0])*3)\n",
    "else:\n",
    "    print (numbers[0] + numbers[1] + numbers[2])"
   ]
  },
  {
   "cell_type": "code",
   "execution_count": 32,
   "metadata": {},
   "outputs": [
    {
     "name": "stdout",
     "output_type": "stream",
     "text": [
      "Please inter your comma seprated numbers:3\n"
     ]
    },
    {
     "ename": "IndexError",
     "evalue": "list index out of range",
     "output_type": "error",
     "traceback": [
      "\u001b[0;31m---------------------------------------------------------------------------\u001b[0m",
      "\u001b[0;31mIndexError\u001b[0m                                Traceback (most recent call last)",
      "\u001b[0;32m<ipython-input-32-7f9694a7a134>\u001b[0m in \u001b[0;36m<module>\u001b[0;34m\u001b[0m\n\u001b[1;32m      4\u001b[0m \u001b[0;34m\u001b[0m\u001b[0m\n\u001b[1;32m      5\u001b[0m \u001b[0;34m\u001b[0m\u001b[0m\n\u001b[0;32m----> 6\u001b[0;31m \u001b[0;32mif\u001b[0m \u001b[0ma\u001b[0m\u001b[0;34m[\u001b[0m\u001b[0;36m0\u001b[0m\u001b[0;34m]\u001b[0m \u001b[0;34m==\u001b[0m \u001b[0ma\u001b[0m\u001b[0;34m[\u001b[0m\u001b[0;36m1\u001b[0m\u001b[0;34m]\u001b[0m \u001b[0;32mand\u001b[0m \u001b[0ma\u001b[0m\u001b[0;34m[\u001b[0m\u001b[0;36m1\u001b[0m\u001b[0;34m]\u001b[0m\u001b[0;34m==\u001b[0m \u001b[0ma\u001b[0m\u001b[0;34m[\u001b[0m\u001b[0;36m2\u001b[0m\u001b[0;34m]\u001b[0m\u001b[0;34m:\u001b[0m\u001b[0;34m\u001b[0m\u001b[0;34m\u001b[0m\u001b[0m\n\u001b[0m\u001b[1;32m      7\u001b[0m     \u001b[0mprint\u001b[0m\u001b[0;34m(\u001b[0m\u001b[0;36m3\u001b[0m\u001b[0;34m*\u001b[0m\u001b[0;34m(\u001b[0m\u001b[0ma\u001b[0m\u001b[0;34m[\u001b[0m\u001b[0;36m0\u001b[0m\u001b[0;34m]\u001b[0m\u001b[0;34m+\u001b[0m \u001b[0ma\u001b[0m\u001b[0;34m[\u001b[0m\u001b[0;36m1\u001b[0m\u001b[0;34m]\u001b[0m\u001b[0;34m+\u001b[0m \u001b[0ma\u001b[0m\u001b[0;34m[\u001b[0m\u001b[0;36m2\u001b[0m\u001b[0;34m]\u001b[0m\u001b[0;34m)\u001b[0m\u001b[0;34m)\u001b[0m\u001b[0;34m\u001b[0m\u001b[0;34m\u001b[0m\u001b[0m\n\u001b[1;32m      8\u001b[0m \u001b[0;32melse\u001b[0m\u001b[0;34m:\u001b[0m\u001b[0;34m\u001b[0m\u001b[0;34m\u001b[0m\u001b[0m\n",
      "\u001b[0;31mIndexError\u001b[0m: list index out of range"
     ]
    }
   ],
   "source": [
    "a= input('Please inter your comma seprated numbers:').split(',')\n",
    "a=[int(i) for i in a]\n",
    "\n",
    "\n",
    "\n",
    "if a[0] == a[1] and a[1]== a[2]:\n",
    "    print(3*(a[0]+ a[1]+ a[2]))\n",
    "else:\n",
    "    print(a[0]+ a[1]+ a[2])"
   ]
  },
  {
   "cell_type": "raw",
   "metadata": {},
   "source": [
    "Q19:  Write a Python program to get a new string.If the given string already begins with \"Is\" then return the string unchanged if it startes with 'Is' return string unchanged."
   ]
  },
  {
   "cell_type": "code",
   "execution_count": 33,
   "metadata": {},
   "outputs": [
    {
     "name": "stdout",
     "output_type": "stream",
     "text": [
      "Please inter your string: 3\n",
      "IS3\n"
     ]
    }
   ],
   "source": [
    "string= input('Please inter your string: ')\n",
    "\n",
    "if string[:2]=='is':\n",
    "    \n",
    "    print(string)\n",
    "else:\n",
    "    print( 'IS'+ string)"
   ]
  },
  {
   "cell_type": "raw",
   "metadata": {},
   "source": [
    "Q20: Write a Python program to get a string which is n (non-negative integer) copies of a given string."
   ]
  },
  {
   "cell_type": "code",
   "execution_count": 34,
   "metadata": {},
   "outputs": [
    {
     "name": "stdout",
     "output_type": "stream",
     "text": [
      "Inter your string please:3\n",
      "Input number of copies: 2\n",
      "33\n"
     ]
    }
   ],
   "source": [
    "string= input('Inter your string please:')\n",
    "number= int(input('Input number of copies: '))\n",
    "\n",
    "print(number* string)"
   ]
  },
  {
   "cell_type": "code",
   "execution_count": 35,
   "metadata": {},
   "outputs": [],
   "source": [
    "def copi(string, n):\n",
    "    print(n*string)"
   ]
  },
  {
   "cell_type": "code",
   "execution_count": 36,
   "metadata": {},
   "outputs": [
    {
     "name": "stdout",
     "output_type": "stream",
     "text": [
      "bandarbandarbandarbandar\n"
     ]
    }
   ],
   "source": [
    "copi('bandar', 4)"
   ]
  },
  {
   "cell_type": "code",
   "execution_count": 37,
   "metadata": {},
   "outputs": [],
   "source": [
    "def copi1(string, n):\n",
    "    result= ''\n",
    "    \n",
    "    for i in range(n):\n",
    "        result= result+' '+ string\n",
    "    \n",
    "    print(result)"
   ]
  },
  {
   "cell_type": "code",
   "execution_count": 38,
   "metadata": {},
   "outputs": [
    {
     "name": "stdout",
     "output_type": "stream",
     "text": [
      " bandar bandar bandar bandar bandar\n"
     ]
    }
   ],
   "source": [
    "copi1('bandar', 5)"
   ]
  },
  {
   "cell_type": "raw",
   "metadata": {},
   "source": [
    "Q21: Write a Python program to find whether a given number (accept from the user) is even or odd, print out an appropriate message to the user."
   ]
  },
  {
   "cell_type": "code",
   "execution_count": 39,
   "metadata": {},
   "outputs": [
    {
     "name": "stdout",
     "output_type": "stream",
     "text": [
      "Please inter your number: 3\n",
      "Your number is odd\n"
     ]
    }
   ],
   "source": [
    "num= int(input('Please inter your number: '))\n",
    "\n",
    "if num%2==0:\n",
    "    print('Your number is even')\n",
    "    \n",
    "else:\n",
    "    print('Your number is odd')"
   ]
  },
  {
   "cell_type": "raw",
   "metadata": {},
   "source": [
    "Q22: Write a Python program to count the number 4 in a given list."
   ]
  },
  {
   "cell_type": "code",
   "execution_count": 40,
   "metadata": {},
   "outputs": [
    {
     "name": "stdout",
     "output_type": "stream",
     "text": [
      "Inter number in a comma seprated form3\n",
      "0\n"
     ]
    }
   ],
   "source": [
    "lst= [int(i) for i in (input('Inter number in a comma seprated form').split(','))]\n",
    "\n",
    "count= 0\n",
    "\n",
    "for i in lst:\n",
    "    if i==4:\n",
    "        count+=1\n",
    "    else:\n",
    "        pass\n",
    "    \n",
    "print(count)"
   ]
  },
  {
   "cell_type": "code",
   "execution_count": 41,
   "metadata": {},
   "outputs": [
    {
     "data": {
      "text/plain": [
       "5"
      ]
     },
     "execution_count": 41,
     "metadata": {},
     "output_type": "execute_result"
    }
   ],
   "source": [
    "lst0=[2,4,5,7,1,10,4,4,4,4,93]\n",
    "\n",
    "lst0.count(4)"
   ]
  },
  {
   "cell_type": "raw",
   "metadata": {},
   "source": [
    "Q23: Write a Python program to get the n (non-negative integer) copies of the first 2 characters of a given string. Return the n copies of the whole string if the length is less than 2. "
   ]
  },
  {
   "cell_type": "code",
   "execution_count": 43,
   "metadata": {},
   "outputs": [
    {
     "name": "stdout",
     "output_type": "stream",
     "text": [
      "Please inter your string:3\n",
      "Please number of copies that you want:3\n",
      "333\n"
     ]
    }
   ],
   "source": [
    "string= input('Please inter your string:')\n",
    "n=int(input('Please number of copies that you want:'))\n",
    "\n",
    "a= string[:2]\n",
    "\n",
    "if len(string)<=2:\n",
    "    print(n * string)\n",
    "else:\n",
    "    print(a*n)"
   ]
  },
  {
   "cell_type": "raw",
   "metadata": {},
   "source": [
    "Q24: Write a Python program to test whether a passed letter is a vowel or not."
   ]
  },
  {
   "cell_type": "code",
   "execution_count": 44,
   "metadata": {},
   "outputs": [
    {
     "name": "stdout",
     "output_type": "stream",
     "text": [
      "Inter your letter: 3\n",
      "Your number is not vowel\n"
     ]
    }
   ],
   "source": [
    "a= 'AEUOI'\n",
    "s= input('Inter your letter: ').upper()\n",
    "if s in a:\n",
    "    print(' Your number is vowel')\n",
    "else:\n",
    "    print('Your number is not vowel')"
   ]
  },
  {
   "cell_type": "raw",
   "metadata": {},
   "source": [
    "Q25: Write a Python program to check whether a specified value is contained in a group of values."
   ]
  },
  {
   "cell_type": "code",
   "execution_count": 45,
   "metadata": {},
   "outputs": [
    {
     "name": "stdout",
     "output_type": "stream",
     "text": [
      "Please inter your number: 3\n",
      "Your number is in list\n"
     ]
    }
   ],
   "source": [
    "numb= int(input('Please inter your number: '))\n",
    "lst= [2, 3, 4, 5, 7, 1, 12, 45, 75, 90, 71, 83, 94, 27]\n",
    "\n",
    "if numb in lst:\n",
    "    print('Your number is in list')\n",
    "else:\n",
    "    print('Your number is not in list')"
   ]
  },
  {
   "cell_type": "raw",
   "metadata": {},
   "source": [
    "Q26: Write a Python program to create a histogram from a given list of integers."
   ]
  },
  {
   "cell_type": "code",
   "execution_count": 46,
   "metadata": {},
   "outputs": [],
   "source": [
    "def histo(items):\n",
    "    for n in items:\n",
    "        output=''\n",
    "        time= n\n",
    "        while time>0:\n",
    "            output+='*'\n",
    "            time= time -1\n",
    "        print(output)"
   ]
  },
  {
   "cell_type": "code",
   "execution_count": 47,
   "metadata": {},
   "outputs": [
    {
     "name": "stdout",
     "output_type": "stream",
     "text": [
      "**\n",
      "*********\n",
      "*******\n",
      "****\n",
      "********\n"
     ]
    }
   ],
   "source": [
    "histo([2, 9, 7, 4, 8])"
   ]
  },
  {
   "cell_type": "code",
   "execution_count": 48,
   "metadata": {},
   "outputs": [
    {
     "name": "stdout",
     "output_type": "stream",
     "text": [
      "**\n",
      "*********\n",
      "*******\n",
      "****\n",
      "********\n"
     ]
    }
   ],
   "source": [
    "histo= [2, 9, 7, 4, 8]\n",
    "\n",
    "for n in histo:\n",
    "    print('*'*n)"
   ]
  },
  {
   "cell_type": "raw",
   "metadata": {},
   "source": [
    "Q27: Write a Python program to concatenate all elements in a list into a string and return it."
   ]
  },
  {
   "cell_type": "code",
   "execution_count": 49,
   "metadata": {},
   "outputs": [
    {
     "name": "stdout",
     "output_type": "stream",
     "text": [
      "Inter your element in comma seprated form: 3\n",
      "['3']\n"
     ]
    }
   ],
   "source": [
    "lst= [str(char) for char in (input('Inter your element in comma seprated form: ').split(','))]\n",
    "\n",
    "print(lst)"
   ]
  },
  {
   "cell_type": "raw",
   "metadata": {},
   "source": [
    "Q28: Write a Python program to print out all even numbers from a given numbers list in the same order and stop the printing if any numbers that come after 237 in the sequence."
   ]
  },
  {
   "cell_type": "code",
   "execution_count": 50,
   "metadata": {},
   "outputs": [
    {
     "name": "stdout",
     "output_type": "stream",
     "text": [
      "Please input your numbers in comma seprated form: 3\n"
     ]
    }
   ],
   "source": [
    "lst= [int(char) for char in (input('Please input your numbers in comma seprated form: ').split(','))]\n",
    "\n",
    "for i in lst:\n",
    "    if i>372:\n",
    "        break\n",
    "    elif i%2==0:\n",
    "        print(i)\n",
    "    else:\n",
    "        pass"
   ]
  },
  {
   "cell_type": "raw",
   "metadata": {},
   "source": [
    "Q29: Write a Python program to print out a set containing all the colors from color_list_1 which are not present in color_list_2. \n",
    "\n",
    "color_list_1 = set([\"White\", \"Black\", \"Red\"])\n",
    "color_list_2 = set([\"Red\", \"Green\"])\n",
    "\n",
    "Expected Output :\n",
    "{'Black', 'White'}"
   ]
  },
  {
   "cell_type": "code",
   "execution_count": 51,
   "metadata": {},
   "outputs": [
    {
     "name": "stdout",
     "output_type": "stream",
     "text": [
      "White\n",
      "Black\n"
     ]
    }
   ],
   "source": [
    "color_list_1 = set([\"White\", \"Black\", \"Red\"])\n",
    "color_list_2 = set([\"Red\", \"Green\"])\n",
    "\n",
    "for i in color_list_1:\n",
    "    if i in color_list_2:\n",
    "        pass\n",
    "    else:\n",
    "        print(i)"
   ]
  },
  {
   "cell_type": "code",
   "execution_count": 52,
   "metadata": {},
   "outputs": [
    {
     "name": "stdout",
     "output_type": "stream",
     "text": [
      "{'White', 'Black'}\n"
     ]
    }
   ],
   "source": [
    "print(color_list_1.difference(color_list_2))"
   ]
  },
  {
   "cell_type": "raw",
   "metadata": {},
   "source": [
    "Q30: Write a Python program that will accept the base and height of a triangle and compute the area."
   ]
  },
  {
   "cell_type": "code",
   "execution_count": 53,
   "metadata": {},
   "outputs": [
    {
     "name": "stdout",
     "output_type": "stream",
     "text": [
      "Please inter base of triangle: 44\n",
      "Please input height of triangle:45\n",
      "The Area of your triangel is : 990.0\n"
     ]
    }
   ],
   "source": [
    "base= int(input('Please inter base of triangle: '))\n",
    "height= int(input('Please input height of triangle:'))\n",
    "\n",
    "Area= (base*height)/2\n",
    "print('The Area of your triangel is : {}'.format(Area))"
   ]
  },
  {
   "cell_type": "raw",
   "metadata": {},
   "source": [
    "Q31: Write a Python program to compute the greatest common divisor (GCD) of two positive integers."
   ]
  },
  {
   "cell_type": "code",
   "execution_count": 54,
   "metadata": {},
   "outputs": [
    {
     "name": "stdout",
     "output_type": "stream",
     "text": [
      "Please input your first number: 54\n",
      "Please input your second number: 54\n",
      "27\n"
     ]
    }
   ],
   "source": [
    "num1= int(input('Please input your first number: '))\n",
    "num2= int(input('Please input your second number: '))\n",
    "\n",
    "div1= []\n",
    "div2= []\n",
    "comm=[]\n",
    "\n",
    "for i in range(2,num1):\n",
    "    if num1%i==0:\n",
    "        div1.append(i)\n",
    "    else:\n",
    "        pass\n",
    "    \n",
    "    \n",
    "for j in range(2, num2):\n",
    "    if num2%j==0:\n",
    "        div2.append(j)\n",
    "    else:\n",
    "        pass\n",
    "    \n",
    "    \n",
    "for s in div1:\n",
    "    if s in div2:\n",
    "        comm.append(s)\n",
    "    else:\n",
    "        pass\n",
    "    \n",
    "print(np.max(comm))\n",
    "    "
   ]
  },
  {
   "cell_type": "code",
   "execution_count": 28,
   "metadata": {},
   "outputs": [
    {
     "name": "stdout",
     "output_type": "stream",
     "text": [
      "Please input your first number: 255\n",
      "Please input your second number: 35\n",
      "5\n"
     ]
    }
   ],
   "source": [
    "num1= int(input('Please input your first number: '))\n",
    "num2= int(input('Please input your second number: '))\n",
    "\n",
    "GCD= 1\n",
    "\n",
    "if num1%num2==0 or num2%num1==0:\n",
    "    print(np.min(num1, num2))\n",
    "    \n",
    "    \n",
    "for k in range(int(num1/2), 0, -1):\n",
    "    if num1%k==0 and num2%k==0:\n",
    "        print(k)\n",
    "        break\n",
    "    else:\n",
    "        pass"
   ]
  },
  {
   "cell_type": "raw",
   "metadata": {},
   "source": [
    "Q32: Write a Python program to get the least common multiple (LCM) of two positive integers."
   ]
  },
  {
   "cell_type": "code",
   "execution_count": 43,
   "metadata": {},
   "outputs": [
    {
     "name": "stdout",
     "output_type": "stream",
     "text": [
      "Please input your first number: 45\n",
      "Please input your second number: 15\n",
      "3\n"
     ]
    }
   ],
   "source": [
    "num1= int(input('Please input your first number: '))\n",
    "num2= int(input('Please input your second number: '))\n",
    "\n",
    "LCM= num1 * num2\n",
    "\n",
    "\n",
    "for k in range(1, min(num1, num2)):\n",
    "    if (k*min(num1, num2) % max(num1, num2)==0 ):\n",
    "        LCM= k\n",
    "        break\n",
    "    else:\n",
    "        pass\n",
    "    \n",
    "print(LCM)"
   ]
  },
  {
   "cell_type": "raw",
   "metadata": {},
   "source": [
    "Write a Python program to sum of three given integers. However, if two values are equal sum will be zero.\n"
   ]
  },
  {
   "cell_type": "code",
   "execution_count": 52,
   "metadata": {},
   "outputs": [
    {
     "name": "stdout",
     "output_type": "stream",
     "text": [
      "Please input your first number: 20\n",
      "Please input your second number: 45\n",
      "180\n"
     ]
    }
   ],
   "source": [
    "num1= int(input('Please input your first number: '))\n",
    "num2= int(input('Please input your second number: '))\n",
    "\n",
    "\n",
    "if num1> num2:\n",
    "    z= num1\n",
    "else:\n",
    "    z= num2\n",
    "    \n",
    "while(True):\n",
    "    if (z%num1==0) and (z%num2== 0):\n",
    "        print(z)\n",
    "        break\n",
    "    else:\n",
    "        pass\n",
    "    z+=1"
   ]
  },
  {
   "cell_type": "raw",
   "metadata": {},
   "source": [
    "Q33: Write a Python program to sum of three given integers. However, if two values are equal sum will be zero."
   ]
  },
  {
   "cell_type": "code",
   "execution_count": 54,
   "metadata": {},
   "outputs": [
    {
     "name": "stdout",
     "output_type": "stream",
     "text": [
      "Please input your first number: 12\n",
      "Please input your second number: 12\n",
      "Please input your second number: 34\n",
      "0\n"
     ]
    }
   ],
   "source": [
    "num1= int(input('Please input your first number: '))\n",
    "num2= int(input('Please input your second number: '))\n",
    "num3= int(input('Please input your second number: '))\n",
    "\n",
    "a=[]\n",
    "\n",
    "if num1== num2 or num2==num3 or num1== num3:\n",
    "    a= 0\n",
    "else:\n",
    "    a= num1 + num2 + num3\n",
    "    \n",
    "print(a)"
   ]
  },
  {
   "cell_type": "raw",
   "metadata": {},
   "source": [
    "Q34: Write a Python program which will return true if the two given integer values are equal or their sum or difference is 5."
   ]
  },
  {
   "cell_type": "code",
   "execution_count": 58,
   "metadata": {},
   "outputs": [
    {
     "name": "stdout",
     "output_type": "stream",
     "text": [
      "Please input your first number: 56\n",
      "Please input your second number: 61\n",
      "True\n"
     ]
    }
   ],
   "source": [
    "num1= int(input('Please input your first number: '))\n",
    "num2= int(input('Please input your second number: '))\n",
    "\n",
    "if num1== num2 or num1+ num2== 5 or abs(num1 - num2)==5:\n",
    "    print('True')\n",
    "else: \n",
    "    print('False')"
   ]
  },
  {
   "cell_type": "raw",
   "metadata": {},
   "source": [
    "Q36: Write a Python program to add two objects if both objects are an integer type."
   ]
  },
  {
   "cell_type": "code",
   "execution_count": 60,
   "metadata": {},
   "outputs": [
    {
     "name": "stdout",
     "output_type": "stream",
     "text": [
      "Input23\n",
      "Input234\n"
     ]
    }
   ],
   "source": [
    "element1= input('Input')\n",
    "element2= input('Input')\n",
    "\n",
    "if type(element1)== int and type(element2)== int:\n",
    "    print(element1 + element2)\n",
    "else:\n",
    "    pass"
   ]
  },
  {
   "cell_type": "code",
   "execution_count": 61,
   "metadata": {},
   "outputs": [
    {
     "name": "stdout",
     "output_type": "stream",
     "text": [
      "Input28\n",
      "Input83\n"
     ]
    },
    {
     "ename": "TypeError",
     "evalue": " Please input intiger type",
     "output_type": "error",
     "traceback": [
      "\u001b[0;31m---------------------------------------------------------------------------\u001b[0m",
      "\u001b[0;31mTypeError\u001b[0m                                 Traceback (most recent call last)",
      "\u001b[0;32m<ipython-input-61-9237e8b5c8e4>\u001b[0m in \u001b[0;36m<module>\u001b[0;34m\u001b[0m\n\u001b[1;32m      5\u001b[0m     \u001b[0mprint\u001b[0m\u001b[0;34m(\u001b[0m\u001b[0melement1\u001b[0m \u001b[0;34m+\u001b[0m \u001b[0melement2\u001b[0m\u001b[0;34m)\u001b[0m\u001b[0;34m\u001b[0m\u001b[0;34m\u001b[0m\u001b[0m\n\u001b[1;32m      6\u001b[0m \u001b[0;32melse\u001b[0m\u001b[0;34m:\u001b[0m\u001b[0;34m\u001b[0m\u001b[0;34m\u001b[0m\u001b[0m\n\u001b[0;32m----> 7\u001b[0;31m     \u001b[0;32mraise\u001b[0m \u001b[0mTypeError\u001b[0m\u001b[0;34m(\u001b[0m\u001b[0;34m' Please input intiger type'\u001b[0m\u001b[0;34m)\u001b[0m\u001b[0;34m\u001b[0m\u001b[0;34m\u001b[0m\u001b[0m\n\u001b[0m",
      "\u001b[0;31mTypeError\u001b[0m:  Please input intiger type"
     ]
    }
   ],
   "source": [
    "element1= input('Input')\n",
    "element2= input('Input')\n",
    "\n",
    "if isinstance(element1, int) and isinstance(element2, int):\n",
    "    print(element1 + element2)\n",
    "else:\n",
    "    raise TypeError(' Please input intiger type')"
   ]
  },
  {
   "cell_type": "raw",
   "metadata": {},
   "source": [
    "Q37:  Write a Python program to display your details like name, age, address in three different lines."
   ]
  },
  {
   "cell_type": "code",
   "execution_count": 66,
   "metadata": {},
   "outputs": [
    {
     "name": "stdout",
     "output_type": "stream",
     "text": [
      " My name is Mikael\n",
      " and my last name is Alavinejad\n",
      " im 32 years old\n"
     ]
    }
   ],
   "source": [
    "print(' My name is Mikael\\n and my last name is Alavinejad\\n im 32 years old')"
   ]
  },
  {
   "cell_type": "raw",
   "metadata": {},
   "source": [
    "Q38: Write a Python program to solve (x + y) * (x + y).\n",
    "\n",
    "Test Data : x = 4, y = 3\n",
    "Expected Output : (4 + 3) ^ 2) = 49"
   ]
  },
  {
   "cell_type": "code",
   "execution_count": 67,
   "metadata": {},
   "outputs": [
    {
     "name": "stdout",
     "output_type": "stream",
     "text": [
      "Please input your first number: 34\n",
      "Please input your second number: 54\n",
      "7744\n"
     ]
    }
   ],
   "source": [
    "num1= int(input('Please input your first number: '))\n",
    "num2= int(input('Please input your second number: '))\n",
    "\n",
    "print((num1 + num2)**2)"
   ]
  },
  {
   "cell_type": "raw",
   "metadata": {},
   "source": [
    "Q39:Write a Python program to compute the future value of a specified principal amount, rate of interest, and a number of years.\n",
    "\n",
    "Test Data : amt = 10000, int = 3.5, years = 7\n",
    "Expected Output : 12722.79"
   ]
  },
  {
   "cell_type": "raw",
   "metadata": {},
   "source": [
    "..\n",
    ".\n",
    ".\n",
    "..\n",
    ".\n"
   ]
  },
  {
   "cell_type": "raw",
   "metadata": {},
   "source": [
    "Q40: Write a Python program to compute the distance between the points (x1, y1) and (x2, y2)."
   ]
  },
  {
   "cell_type": "code",
   "execution_count": 75,
   "metadata": {},
   "outputs": [
    {
     "name": "stdout",
     "output_type": "stream",
     "text": [
      "Please input your first point in comma seprated form: 12,43\n",
      "Please input your second point in comma seprated form: 65,91\n",
      "71.50524456289902\n"
     ]
    }
   ],
   "source": [
    "point1= [int(j) for j in (input('Please input your first point in comma seprated form: ').split(','))]\n",
    "point2= [int(i) for i in (input('Please input your second point in comma seprated form: ').split(','))]\n",
    "\n",
    "Distance=np.sqrt((point1[0] - point2[0])**2 +(point1[1] - point2[1])**2)\n",
    "print(Distance)"
   ]
  },
  {
   "cell_type": "raw",
   "metadata": {},
   "source": [
    "Q41: Write a Python program to check whether a file exists."
   ]
  },
  {
   "cell_type": "code",
   "execution_count": 2,
   "metadata": {},
   "outputs": [
    {
     "ename": "IsADirectoryError",
     "evalue": "[Errno 21] Is a directory: '/home/mikaeil/Pictures'",
     "output_type": "error",
     "traceback": [
      "\u001b[0;31m---------------------------------------------------------------------------\u001b[0m",
      "\u001b[0;31mIsADirectoryError\u001b[0m                         Traceback (most recent call last)",
      "\u001b[0;32m<ipython-input-2-e9fb68136727>\u001b[0m in \u001b[0;36m<module>\u001b[0;34m\u001b[0m\n\u001b[1;32m      2\u001b[0m \u001b[0;34m\u001b[0m\u001b[0m\n\u001b[1;32m      3\u001b[0m \u001b[0;34m\u001b[0m\u001b[0m\n\u001b[0;32m----> 4\u001b[0;31m \u001b[0mopen\u001b[0m\u001b[0;34m(\u001b[0m\u001b[0;34m'/home/mikaeil/Pictures'\u001b[0m\u001b[0;34m)\u001b[0m\u001b[0;34m\u001b[0m\u001b[0;34m\u001b[0m\u001b[0m\n\u001b[0m\u001b[1;32m      5\u001b[0m \u001b[0;34m\u001b[0m\u001b[0m\n\u001b[1;32m      6\u001b[0m \u001b[0mprint\u001b[0m\u001b[0;34m(\u001b[0m\u001b[0mos\u001b[0m\u001b[0;34m.\u001b[0m\u001b[0mpath\u001b[0m\u001b[0;34m.\u001b[0m\u001b[0misfile\u001b[0m\u001b[0;34m(\u001b[0m\u001b[0;34m'BNB Offline model.png'\u001b[0m\u001b[0;34m)\u001b[0m\u001b[0;34m)\u001b[0m\u001b[0;34m\u001b[0m\u001b[0;34m\u001b[0m\u001b[0m\n",
      "\u001b[0;31mIsADirectoryError\u001b[0m: [Errno 21] Is a directory: '/home/mikaeil/Pictures'"
     ]
    }
   ],
   "source": [
    "import os.path\n",
    "\n",
    "\n",
    "open('/home/mikaeil/Pictures')\n",
    "\n",
    "print(os.path.isfile('BNB Offline model.png'))"
   ]
  },
  {
   "cell_type": "raw",
   "metadata": {},
   "source": [
    "Q42: Write a Python program to determine whether a Python shell is executing in 32bit or 64bit mode on OS?"
   ]
  },
  {
   "cell_type": "code",
   "execution_count": 11,
   "metadata": {},
   "outputs": [
    {
     "name": "stdout",
     "output_type": "stream",
     "text": [
      "64\n"
     ]
    }
   ],
   "source": [
    "import struct\n",
    "\n",
    "print(struct.calcsize('q') * 8)"
   ]
  },
  {
   "cell_type": "raw",
   "metadata": {},
   "source": [
    "Q43: Write a Python program to get OS name, platform and release information."
   ]
  },
  {
   "cell_type": "code",
   "execution_count": 13,
   "metadata": {},
   "outputs": [
    {
     "name": "stdout",
     "output_type": "stream",
     "text": [
      "posix\n",
      "Linux\n",
      "5.8.0-44-generic\n"
     ]
    }
   ],
   "source": [
    "import platform\n",
    "import os\n",
    "\n",
    "print(os.name)\n",
    "print(platform.system())\n",
    "print(platform.release())"
   ]
  },
  {
   "cell_type": "raw",
   "metadata": {},
   "source": [
    "Q44: Write a Python program to locate Python site-packages."
   ]
  },
  {
   "cell_type": "code",
   "execution_count": 14,
   "metadata": {},
   "outputs": [
    {
     "name": "stdout",
     "output_type": "stream",
     "text": [
      "['/home/mikaeil/anaconda3/lib/python3.7/site-packages']\n"
     ]
    }
   ],
   "source": [
    "import site\n",
    "\n",
    "print(site.getsitepackages())"
   ]
  },
  {
   "cell_type": "raw",
   "metadata": {},
   "source": [
    "Q45: Write a python program to call an external command in Python."
   ]
  },
  {
   "cell_type": "code",
   "execution_count": 15,
   "metadata": {},
   "outputs": [
    {
     "data": {
      "text/plain": [
       "0"
      ]
     },
     "execution_count": 15,
     "metadata": {},
     "output_type": "execute_result"
    }
   ],
   "source": [
    "from subprocess import call\n",
    "\n",
    "call(['ls', '-l'])"
   ]
  },
  {
   "cell_type": "raw",
   "metadata": {},
   "source": [
    "Q46: Write a python program to get the path and name of the file that is currently executing."
   ]
  },
  {
   "cell_type": "code",
   "execution_count": 19,
   "metadata": {},
   "outputs": [
    {
     "ename": "SyntaxError",
     "evalue": "invalid syntax (<ipython-input-19-bf5de7c87d06>, line 3)",
     "output_type": "error",
     "traceback": [
      "\u001b[0;36m  File \u001b[0;32m\"<ipython-input-19-bf5de7c87d06>\"\u001b[0;36m, line \u001b[0;32m3\u001b[0m\n\u001b[0;31m    print('Currently path is {}'.format(os.path.realpath(__BNB Offline model.png__)))\u001b[0m\n\u001b[0m                                                                     ^\u001b[0m\n\u001b[0;31mSyntaxError\u001b[0m\u001b[0;31m:\u001b[0m invalid syntax\n"
     ]
    }
   ],
   "source": [
    "import os\n",
    "\n",
    "print('Currently path is {}'.format(os.path.realpath(__BNB Offline model.png__)))"
   ]
  },
  {
   "cell_type": "raw",
   "metadata": {},
   "source": [
    "Q47:  Write a Python program to find out the number of CPUs using."
   ]
  },
  {
   "cell_type": "code",
   "execution_count": 21,
   "metadata": {},
   "outputs": [
    {
     "name": "stdout",
     "output_type": "stream",
     "text": [
      "12\n"
     ]
    }
   ],
   "source": [
    "import multiprocessing\n",
    "\n",
    "print(multiprocessing.cpu_count())"
   ]
  },
  {
   "cell_type": "raw",
   "metadata": {},
   "source": [
    "Q48: Write a Python program to parse a string to Float or Integer."
   ]
  },
  {
   "cell_type": "code",
   "execution_count": 36,
   "metadata": {},
   "outputs": [
    {
     "name": "stdout",
     "output_type": "stream",
     "text": [
      "Pleas input your number:543252.85675\n",
      "543252.85675 \n",
      " 543253\n"
     ]
    }
   ],
   "source": [
    "string= input('Pleas input your number:')\n",
    "\n",
    "\n",
    "numbers= float(string)\n",
    "number= int(round(numbers))\n",
    "print(numbers,'\\n' ,number)"
   ]
  },
  {
   "cell_type": "raw",
   "metadata": {},
   "source": [
    "Q49:  Write a Python program to list all files in a directory in Python."
   ]
  },
  {
   "cell_type": "code",
   "execution_count": null,
   "metadata": {},
   "outputs": [],
   "source": []
  },
  {
   "cell_type": "raw",
   "metadata": {},
   "source": [
    "Q50: Write a Python program to print without newline or space?"
   ]
  },
  {
   "cell_type": "code",
   "execution_count": 43,
   "metadata": {},
   "outputs": [
    {
     "name": "stdout",
     "output_type": "stream",
     "text": [
      "0123456789"
     ]
    }
   ],
   "source": [
    "for i in range(0, 10):\n",
    "    print(i, end='')"
   ]
  },
  {
   "cell_type": "raw",
   "metadata": {},
   "source": [
    "Q51:  Write a Python program to determine profiling of Python programs.\n",
    "\n",
    "Note: A profile is a set of statistics that describes how often and for \n",
    "how long various parts of the program executed. These statistics can be \n",
    "formatted into reports via the pstats module."
   ]
  },
  {
   "cell_type": "code",
   "execution_count": 45,
   "metadata": {},
   "outputs": [
    {
     "name": "stdout",
     "output_type": "stream",
     "text": [
      "3\n",
      "         39 function calls in 0.000 seconds\n",
      "\n",
      "   Ordered by: standard name\n",
      "\n",
      "   ncalls  tottime  percall  cumtime  percall filename:lineno(function)\n",
      "        1    0.000    0.000    0.000    0.000 <ipython-input-45-5e9c4d601f2b>:3(summ)\n",
      "        1    0.000    0.000    0.000    0.000 <string>:1(<module>)\n",
      "        3    0.000    0.000    0.000    0.000 iostream.py:197(schedule)\n",
      "        2    0.000    0.000    0.000    0.000 iostream.py:310(_is_master_process)\n",
      "        2    0.000    0.000    0.000    0.000 iostream.py:323(_schedule_flush)\n",
      "        2    0.000    0.000    0.000    0.000 iostream.py:386(write)\n",
      "        3    0.000    0.000    0.000    0.000 iostream.py:93(_event_pipe)\n",
      "        3    0.000    0.000    0.000    0.000 socket.py:432(send)\n",
      "        3    0.000    0.000    0.000    0.000 threading.py:1050(_wait_for_tstate_lock)\n",
      "        3    0.000    0.000    0.000    0.000 threading.py:1092(is_alive)\n",
      "        3    0.000    0.000    0.000    0.000 threading.py:507(is_set)\n",
      "        1    0.000    0.000    0.000    0.000 {built-in method builtins.exec}\n",
      "        2    0.000    0.000    0.000    0.000 {built-in method builtins.isinstance}\n",
      "        1    0.000    0.000    0.000    0.000 {built-in method builtins.print}\n",
      "        2    0.000    0.000    0.000    0.000 {built-in method posix.getpid}\n",
      "        3    0.000    0.000    0.000    0.000 {method 'acquire' of '_thread.lock' objects}\n",
      "        3    0.000    0.000    0.000    0.000 {method 'append' of 'collections.deque' objects}\n",
      "        1    0.000    0.000    0.000    0.000 {method 'disable' of '_lsprof.Profiler' objects}\n",
      "\n",
      "\n"
     ]
    }
   ],
   "source": [
    "import cProfile\n",
    "\n",
    "def summ():\n",
    "    print(1+2)\n",
    "    \n",
    "cProfile.run('summ()')"
   ]
  },
  {
   "cell_type": "raw",
   "metadata": {},
   "source": [
    "Q52: Write a Python program to print to stderr."
   ]
  },
  {
   "cell_type": "code",
   "execution_count": 46,
   "metadata": {},
   "outputs": [
    {
     "name": "stderr",
     "output_type": "stream",
     "text": [
      "abc--efg--xyz\n"
     ]
    }
   ],
   "source": [
    "from __future__ import print_function\n",
    "import sys\n",
    "\n",
    "def eprint(*args, **kwargs):\n",
    "    print(*args, file=sys.stderr, **kwargs)\n",
    "\n",
    "eprint(\"abc\", \"efg\", \"xyz\", sep=\"--\")"
   ]
  },
  {
   "cell_type": "raw",
   "metadata": {},
   "source": [
    "Q53: Write a python program to access environment variables."
   ]
  },
  {
   "cell_type": "code",
   "execution_count": 47,
   "metadata": {},
   "outputs": [
    {
     "name": "stdout",
     "output_type": "stream",
     "text": [
      "*----------------------------------*\n",
      "environ({'SHELL': '/bin/bash', 'SESSION_MANAGER': 'local/rog-strix:@/tmp/.ICE-unix/1496,unix/rog-strix:/tmp/.ICE-unix/1496', 'QT_ACCESSIBILITY': '1', 'COLORTERM': 'truecolor', 'XDG_CONFIG_DIRS': '/etc/xdg/xdg-budgie-desktop:/etc/xdg', 'XDG_SESSION_PATH': '/org/freedesktop/DisplayManager/Session0', 'XDG_MENU_PREFIX': 'gnome-', 'GNOME_DESKTOP_SESSION_ID': 'this-is-deprecated', 'CONDA_EXE': '/home/mikaeil/anaconda3/bin/conda', '_CE_M': '', 'LANGUAGE': 'en_US', 'LC_ADDRESS': 'de_DE.UTF-8', 'LC_NAME': 'de_DE.UTF-8', 'SSH_AUTH_SOCK': '/run/user/1000/keyring/ssh', 'XMODIFIERS': '@im=ibus', 'DESKTOP_SESSION': 'budgie-desktop', 'LC_MONETARY': 'de_DE.UTF-8', 'SSH_AGENT_PID': '1557', 'GTK_MODULES': 'appmenu-gtk-module:gail:atk-bridge', 'PWD': '/home/mikaeil', 'XDG_SESSION_DESKTOP': 'budgie-desktop', 'LOGNAME': 'mikaeil', 'CONDA_ROOT': '/home/mikaeil/anaconda3', 'QT_QPA_PLATFORMTHEME': 'qt5ct', 'XDG_SESSION_TYPE': 'x11', 'CONDA_PREFIX': '/home/mikaeil/anaconda3', 'GPG_AGENT_INFO': '/run/user/1000/gnupg/S.gpg-agent:0:1', 'XAUTHORITY': '/home/mikaeil/.Xauthority', 'XDG_GREETER_DATA_DIR': '/var/lib/lightdm-data/mikaeil', 'GDM_LANG': 'en_US', 'HOME': '/home/mikaeil', 'LC_PAPER': 'de_DE.UTF-8', 'LANG': 'en_US.UTF-8', 'LS_COLORS': 'rs=0:di=01;34:ln=01;36:mh=00:pi=40;33:so=01;35:do=01;35:bd=40;33;01:cd=40;33;01:or=40;31;01:mi=00:su=37;41:sg=30;43:ca=30;41:tw=30;42:ow=34;42:st=37;44:ex=01;32:*.tar=01;31:*.tgz=01;31:*.arc=01;31:*.arj=01;31:*.taz=01;31:*.lha=01;31:*.lz4=01;31:*.lzh=01;31:*.lzma=01;31:*.tlz=01;31:*.txz=01;31:*.tzo=01;31:*.t7z=01;31:*.zip=01;31:*.z=01;31:*.dz=01;31:*.gz=01;31:*.lrz=01;31:*.lz=01;31:*.lzo=01;31:*.xz=01;31:*.zst=01;31:*.tzst=01;31:*.bz2=01;31:*.bz=01;31:*.tbz=01;31:*.tbz2=01;31:*.tz=01;31:*.deb=01;31:*.rpm=01;31:*.jar=01;31:*.war=01;31:*.ear=01;31:*.sar=01;31:*.rar=01;31:*.alz=01;31:*.ace=01;31:*.zoo=01;31:*.cpio=01;31:*.7z=01;31:*.rz=01;31:*.cab=01;31:*.wim=01;31:*.swm=01;31:*.dwm=01;31:*.esd=01;31:*.jpg=01;35:*.jpeg=01;35:*.mjpg=01;35:*.mjpeg=01;35:*.gif=01;35:*.bmp=01;35:*.pbm=01;35:*.pgm=01;35:*.ppm=01;35:*.tga=01;35:*.xbm=01;35:*.xpm=01;35:*.tif=01;35:*.tiff=01;35:*.png=01;35:*.svg=01;35:*.svgz=01;35:*.mng=01;35:*.pcx=01;35:*.mov=01;35:*.mpg=01;35:*.mpeg=01;35:*.m2v=01;35:*.mkv=01;35:*.webm=01;35:*.webp=01;35:*.ogm=01;35:*.mp4=01;35:*.m4v=01;35:*.mp4v=01;35:*.vob=01;35:*.qt=01;35:*.nuv=01;35:*.wmv=01;35:*.asf=01;35:*.rm=01;35:*.rmvb=01;35:*.flc=01;35:*.avi=01;35:*.fli=01;35:*.flv=01;35:*.gl=01;35:*.dl=01;35:*.xcf=01;35:*.xwd=01;35:*.yuv=01;35:*.cgm=01;35:*.emf=01;35:*.ogv=01;35:*.ogx=01;35:*.aac=00;36:*.au=00;36:*.flac=00;36:*.m4a=00;36:*.mid=00;36:*.midi=00;36:*.mka=00;36:*.mp3=00;36:*.mpc=00;36:*.ogg=00;36:*.ra=00;36:*.wav=00;36:*.oga=00;36:*.opus=00;36:*.spx=00;36:*.xspf=00;36:', 'XDG_CURRENT_DESKTOP': 'Budgie:GNOME', 'VTE_VERSION': '6200', 'CONDA_PROMPT_MODIFIER': '(base) ', 'XDG_SEAT_PATH': '/org/freedesktop/DisplayManager/Seat0', 'LESSCLOSE': '/usr/bin/lesspipe %s %s', 'XDG_SESSION_CLASS': 'user', 'LC_IDENTIFICATION': 'de_DE.UTF-8', 'TERM': 'xterm-color', '_CE_CONDA': '', 'LESSOPEN': '| /usr/bin/lesspipe %s', 'USER': 'mikaeil', 'CONDA_SHLVL': '1', 'DISPLAY': ':0', 'SHLVL': '2', 'LC_TELEPHONE': 'de_DE.UTF-8', 'QT_IM_MODULE': 'ibus', 'LC_MEASUREMENT': 'de_DE.UTF-8', 'UBUNTU_MENUPROXY': '1', 'PAPERSIZE': 'a4', 'CONDA_PYTHON_EXE': '/home/mikaeil/anaconda3/bin/python', 'TILIX_ID': '3eefc5ce-1b6a-4145-9442-fb97df805f27', 'XDG_RUNTIME_DIR': '/run/user/1000', 'CONDA_DEFAULT_ENV': 'base', 'LC_TIME': 'de_DE.UTF-8', 'XDG_DATA_DIRS': '/usr/share/budgie-desktop:/usr/local/share:/usr/share:/var/lib/snapd/desktop', 'PATH': '/home/mikaeil/anaconda3/bin:/home/mikaeil/anaconda3/condabin:/home/mikaeil/.local/bin:/usr/local/sbin:/usr/local/bin:/usr/sbin:/usr/bin:/sbin:/bin:/usr/games:/usr/local/games:/snap/bin', 'GDMSESSION': 'budgie-desktop', 'DBUS_SESSION_BUS_ADDRESS': 'unix:path=/run/user/1000/bus', 'QT_SCALE_FACTOR': '1', 'GIO_LAUNCHED_DESKTOP_FILE_PID': '1903', 'GIO_LAUNCHED_DESKTOP_FILE': '/etc/xdg/autostart/budgie-nemo.desktop', 'LC_NUMERIC': 'de_DE.UTF-8', '_': '/home/mikaeil/anaconda3/bin/jupyter-notebook', 'JPY_PARENT_PID': '3492', 'CLICOLOR': '1', 'PAGER': 'cat', 'GIT_PAGER': 'cat', 'MPLBACKEND': 'module://ipykernel.pylab.backend_inline'})\n",
      "*----------------------------------*\n",
      "/home/mikaeil\n",
      "*----------------------------------*\n",
      "/home/mikaeil/anaconda3/bin:/home/mikaeil/anaconda3/condabin:/home/mikaeil/.local/bin:/usr/local/sbin:/usr/local/bin:/usr/sbin:/usr/bin:/sbin:/bin:/usr/games:/usr/local/games:/snap/bin\n",
      "*----------------------------------*\n"
     ]
    }
   ],
   "source": [
    "import os\n",
    "# Access all environment variables \n",
    "print('*----------------------------------*')\n",
    "print(os.environ)\n",
    "print('*----------------------------------*')\n",
    "# Access a particular environment variable \n",
    "print(os.environ['HOME'])\n",
    "print('*----------------------------------*')\n",
    "print(os.environ['PATH'])\n",
    "print('*----------------------------------*')"
   ]
  },
  {
   "cell_type": "raw",
   "metadata": {},
   "source": [
    "Q54: Write a Python program to get the current username."
   ]
  },
  {
   "cell_type": "code",
   "execution_count": 49,
   "metadata": {},
   "outputs": [
    {
     "name": "stdout",
     "output_type": "stream",
     "text": [
      "MIKAEIL\n"
     ]
    }
   ],
   "source": [
    "import getpass\n",
    "\n",
    "print(getpass.getuser().upper())"
   ]
  },
  {
   "cell_type": "raw",
   "metadata": {},
   "source": [
    "Q55:  Write a Python to find local IP addresses using Python's stdlib."
   ]
  },
  {
   "cell_type": "code",
   "execution_count": 52,
   "metadata": {},
   "outputs": [
    {
     "name": "stdout",
     "output_type": "stream",
     "text": [
      "10.42.0.1\n"
     ]
    }
   ],
   "source": [
    "import socket\n",
    "print([l for l in ([ip for ip in socket.gethostbyname_ex(socket.gethostname())[2] \n",
    "if not ip.startswith(\"127.\")][:1], [[(s.connect(('8.8.8.8', 53)), \n",
    "s.getsockname()[0], s.close()) for s in [socket.socket(socket.AF_INET, \n",
    "socket.SOCK_DGRAM)]][0][1]]) if l][0][0])"
   ]
  },
  {
   "cell_type": "raw",
   "metadata": {},
   "source": [
    "Q56: Write a Python program to get height and the width of console window."
   ]
  },
  {
   "cell_type": "code",
   "execution_count": 54,
   "metadata": {},
   "outputs": [],
   "source": [
    "def terminal_size():\n",
    "    import fcntl, termios, struct\n",
    "    th, tw, hp, wp = struct.unpack('HHHH',\n",
    "        fcntl.ioctl(0, termios.TIOCGWINSZ,\n",
    "        struct.pack('HHHH', 0, 0, 0, 0)))\n",
    "    return tw, th\n"
   ]
  },
  {
   "cell_type": "code",
   "execution_count": 56,
   "metadata": {
    "scrolled": true
   },
   "outputs": [
    {
     "ename": "OSError",
     "evalue": "[Errno 25] Inappropriate ioctl for device",
     "output_type": "error",
     "traceback": [
      "\u001b[0;31m---------------------------------------------------------------------------\u001b[0m",
      "\u001b[0;31mOSError\u001b[0m                                   Traceback (most recent call last)",
      "\u001b[0;32m<ipython-input-56-ddb6a12c506b>\u001b[0m in \u001b[0;36m<module>\u001b[0;34m\u001b[0m\n\u001b[0;32m----> 1\u001b[0;31m \u001b[0mterminal_size\u001b[0m\u001b[0;34m(\u001b[0m\u001b[0;34m)\u001b[0m\u001b[0;34m\u001b[0m\u001b[0;34m\u001b[0m\u001b[0m\n\u001b[0m",
      "\u001b[0;32m<ipython-input-54-2d12bf44c155>\u001b[0m in \u001b[0;36mterminal_size\u001b[0;34m()\u001b[0m\n\u001b[1;32m      3\u001b[0m     th, tw, hp, wp = struct.unpack('HHHH',\n\u001b[1;32m      4\u001b[0m         fcntl.ioctl(0, termios.TIOCGWINSZ,\n\u001b[0;32m----> 5\u001b[0;31m         struct.pack('HHHH', 0, 0, 0, 0)))\n\u001b[0m\u001b[1;32m      6\u001b[0m     \u001b[0;32mreturn\u001b[0m \u001b[0mtw\u001b[0m\u001b[0;34m,\u001b[0m \u001b[0mth\u001b[0m\u001b[0;34m\u001b[0m\u001b[0;34m\u001b[0m\u001b[0m\n\u001b[1;32m      7\u001b[0m \u001b[0;34m\u001b[0m\u001b[0m\n",
      "\u001b[0;31mOSError\u001b[0m: [Errno 25] Inappropriate ioctl for device"
     ]
    }
   ],
   "source": [
    "terminal_size()"
   ]
  },
  {
   "cell_type": "raw",
   "metadata": {},
   "source": [
    "Q57:  Write a program to get execution time (in seconds) for a Python method."
   ]
  },
  {
   "cell_type": "code",
   "execution_count": 2,
   "metadata": {},
   "outputs": [
    {
     "name": "stdout",
     "output_type": "stream",
     "text": [
      "\n",
      "Time to sum of 1 to  5  and required time to calculate is : (15, 1.9073486328125e-06)\n"
     ]
    }
   ],
   "source": [
    "import time\n",
    "def sum_of_n_numbers(n):\n",
    "    start_time = time.time()\n",
    "    s = 0\n",
    "    for i in range(1,n+1):\n",
    "        s = s + i\n",
    "    end_time = time.time()\n",
    "    return s,end_time-start_time\n",
    "\n",
    "n = 5\n",
    "print(\"\\nTime to sum of 1 to \",n,\" and required time to calculate is :\",sum_of_n_numbers(n))\n"
   ]
  },
  {
   "cell_type": "code",
   "execution_count": 20,
   "metadata": {},
   "outputs": [
    {
     "data": {
      "text/plain": [
       "(50005000, 0.0009548664093017578)"
      ]
     },
     "execution_count": 20,
     "metadata": {},
     "output_type": "execute_result"
    }
   ],
   "source": [
    "sum_of_numbers(10000)"
   ]
  },
  {
   "cell_type": "raw",
   "metadata": {},
   "source": [
    "Q58: Write a python program to find the sum of the first n positive integers."
   ]
  },
  {
   "cell_type": "code",
   "execution_count": 57,
   "metadata": {},
   "outputs": [],
   "source": [
    "def sum_of_positive(a):\n",
    "    global k\n",
    "    k=0\n",
    "    for i in a:\n",
    "        if i>0:\n",
    "            k +=i\n",
    "        else:\n",
    "            break\n",
    "    return k"
   ]
  },
  {
   "cell_type": "code",
   "execution_count": 58,
   "metadata": {},
   "outputs": [
    {
     "data": {
      "text/plain": [
       "5"
      ]
     },
     "execution_count": 58,
     "metadata": {},
     "output_type": "execute_result"
    }
   ],
   "source": [
    "a= [2, 3, -7, 4, 1, -9, 19, 12]\n",
    "sum_of_positive(a)"
   ]
  },
  {
   "cell_type": "raw",
   "metadata": {},
   "source": [
    "What is UnboundLocalError: local variable referenced before assignment?\n",
    "\n",
    "https://careerkarma.com/blog/python-local-variable-referenced-before-assignment/"
   ]
  },
  {
   "cell_type": "raw",
   "metadata": {},
   "source": [
    "Python has a simple rule to determine the scope of a variable. \n",
    "If a variable is assigned in a function, that variable is local. \n",
    "This is because it is assumed that when you define a variable inside \n",
    "a function you only need to access it inside that function.\n",
    "There are two variable scopes in Python: local and global. \n",
    "Global variables are accessible throughout an entire program; \n",
    "local variables are only accessible within the function in which they are originally defined.\n",
    "Trying to assign a value to a variable that does not have local scope can result in this error:\n",
    "What is UnboundLocalError: local variable referenced before assignment?"
   ]
  },
  {
   "cell_type": "raw",
   "metadata": {},
   "source": [
    "Q59: Write a Python program to convert height (in feet and inches) to centimeters."
   ]
  },
  {
   "cell_type": "code",
   "execution_count": 5,
   "metadata": {},
   "outputs": [
    {
     "name": "stdout",
     "output_type": "stream",
     "text": [
      "Please input your height in feet: 25\n",
      "Your height in feet is 25.0 and in centimeter is 762.0\n"
     ]
    }
   ],
   "source": [
    "h_f= float(input('Please input your height in feet: '))\n",
    "\n",
    "h_c= h_f * 30.48\n",
    "\n",
    "print('Your height in feet is {} and in centimeter is {}'.format(h_f, h_c))"
   ]
  },
  {
   "cell_type": "raw",
   "metadata": {},
   "source": [
    "Q60: Write a Python program to calculate the hypotenuse of a right angled triangle."
   ]
  },
  {
   "cell_type": "code",
   "execution_count": 7,
   "metadata": {},
   "outputs": [
    {
     "name": "stdout",
     "output_type": "stream",
     "text": [
      "Please inter the Height: 4\n",
      "Please input the width: 3\n",
      "The hypotenuse of triangle is : 5.0\n"
     ]
    }
   ],
   "source": [
    "Height= float(input('Please inter the Height: '))\n",
    "Width= float(input('Please input the width: '))\n",
    "\n",
    "hypotenuse= np.sqrt(Height**2 + Width**2)\n",
    "\n",
    "print('The hypotenuse of triangle is : {}'.format(hypotenuse))"
   ]
  },
  {
   "cell_type": "raw",
   "metadata": {},
   "source": [
    "Q61:  Write a Python program to convert the distance (in feet) to inches, yards, and miles."
   ]
  },
  {
   "cell_type": "code",
   "execution_count": 8,
   "metadata": {},
   "outputs": [
    {
     "name": "stdout",
     "output_type": "stream",
     "text": [
      "Please input your height in feet: 13\n",
      " Your distance in inche is 1.0833333333333333 and in yard 39.0 and in mile is 68640.0\n"
     ]
    }
   ],
   "source": [
    "h_ft= float(input('Please input your height in feet: '))\n",
    "\n",
    "Inches=  h_ft/12\n",
    "yard= 3 * h_ft\n",
    "mile= 5280* h_ft\n",
    "\n",
    "print(' Your distance in inche is {} and in yard {} and in mile is {}'.format(Inches, yard, mile))"
   ]
  },
  {
   "cell_type": "raw",
   "metadata": {},
   "source": [
    "Q62: Write a Python program to convert all units of time into seconds."
   ]
  },
  {
   "cell_type": "code",
   "execution_count": 10,
   "metadata": {},
   "outputs": [
    {
     "name": "stdout",
     "output_type": "stream",
     "text": [
      "Please inter your days:23\n",
      "Please inter your hours:43\n",
      "Please inter your Minuts:54\n",
      "Please inter your second:126\n",
      "You have 1987200 second for Day and 154800 for Hour and 3240 for Minuts and 126 for second\n"
     ]
    }
   ],
   "source": [
    "second_d= int(input('Please inter your days:'))* 3600 * 24\n",
    "second_h= int(input('Please inter your hours:')) * 3600\n",
    "second_m= int(input('Please inter your Minuts:')) * 60\n",
    "second= int(input('Please inter your second:'))\n",
    "\n",
    "print('You have {} second for Day and {} for Hour and {} for Minuts and {} for second'. format(second_d, second_h, \n",
    "                                                                                             second_m, second))"
   ]
  },
  {
   "cell_type": "raw",
   "metadata": {},
   "source": [
    "Q63:  Write a Python program to get an absolute file path."
   ]
  },
  {
   "cell_type": "code",
   "execution_count": 11,
   "metadata": {},
   "outputs": [
    {
     "name": "stdout",
     "output_type": "stream",
     "text": [
      "Absolute file path:  /home/mikaeil/path_fname\n"
     ]
    }
   ],
   "source": [
    "def absolute_file_path(path_fname):\n",
    "        import os\n",
    "        return os.path.abspath('path_fname')        \n",
    "print(\"Absolute file path: \",absolute_file_path(\"test.txt\"))\n"
   ]
  },
  {
   "cell_type": "raw",
   "metadata": {},
   "source": [
    "Q64: Write a Python program to get file creation and modification date/times."
   ]
  },
  {
   "cell_type": "code",
   "execution_count": 14,
   "metadata": {},
   "outputs": [
    {
     "ename": "FileNotFoundError",
     "evalue": "[Errno 2] No such file or directory: 'test.txt'",
     "output_type": "error",
     "traceback": [
      "\u001b[0;31m---------------------------------------------------------------------------\u001b[0m",
      "\u001b[0;31mFileNotFoundError\u001b[0m                         Traceback (most recent call last)",
      "\u001b[0;32m<ipython-input-14-425837321292>\u001b[0m in \u001b[0;36m<module>\u001b[0;34m\u001b[0m\n\u001b[1;32m      1\u001b[0m \u001b[0;32mimport\u001b[0m \u001b[0mos\u001b[0m\u001b[0;34m.\u001b[0m\u001b[0mpath\u001b[0m\u001b[0;34m,\u001b[0m \u001b[0mtime\u001b[0m\u001b[0;34m\u001b[0m\u001b[0;34m\u001b[0m\u001b[0m\n\u001b[0;32m----> 2\u001b[0;31m \u001b[0mprint\u001b[0m\u001b[0;34m(\u001b[0m\u001b[0;34m\"Last modified: %s\"\u001b[0m \u001b[0;34m%\u001b[0m \u001b[0mtime\u001b[0m\u001b[0;34m.\u001b[0m\u001b[0mctime\u001b[0m\u001b[0;34m(\u001b[0m\u001b[0mos\u001b[0m\u001b[0;34m.\u001b[0m\u001b[0mpath\u001b[0m\u001b[0;34m.\u001b[0m\u001b[0mgetmtime\u001b[0m\u001b[0;34m(\u001b[0m\u001b[0;34m\"test.txt\"\u001b[0m\u001b[0;34m)\u001b[0m\u001b[0;34m)\u001b[0m\u001b[0;34m)\u001b[0m\u001b[0;34m\u001b[0m\u001b[0;34m\u001b[0m\u001b[0m\n\u001b[0m\u001b[1;32m      3\u001b[0m \u001b[0mprint\u001b[0m\u001b[0;34m(\u001b[0m\u001b[0;34m\"Created: %s\"\u001b[0m \u001b[0;34m%\u001b[0m \u001b[0mtime\u001b[0m\u001b[0;34m.\u001b[0m\u001b[0mctime\u001b[0m\u001b[0;34m(\u001b[0m\u001b[0mos\u001b[0m\u001b[0;34m.\u001b[0m\u001b[0mpath\u001b[0m\u001b[0;34m.\u001b[0m\u001b[0mgetctime\u001b[0m\u001b[0;34m(\u001b[0m\u001b[0;34m\"test.txt\"\u001b[0m\u001b[0;34m)\u001b[0m\u001b[0;34m)\u001b[0m\u001b[0;34m)\u001b[0m\u001b[0;34m\u001b[0m\u001b[0;34m\u001b[0m\u001b[0m\n",
      "\u001b[0;32m~/anaconda3/lib/python3.7/genericpath.py\u001b[0m in \u001b[0;36mgetmtime\u001b[0;34m(filename)\u001b[0m\n\u001b[1;32m     53\u001b[0m \u001b[0;32mdef\u001b[0m \u001b[0mgetmtime\u001b[0m\u001b[0;34m(\u001b[0m\u001b[0mfilename\u001b[0m\u001b[0;34m)\u001b[0m\u001b[0;34m:\u001b[0m\u001b[0;34m\u001b[0m\u001b[0;34m\u001b[0m\u001b[0m\n\u001b[1;32m     54\u001b[0m     \u001b[0;34m\"\"\"Return the last modification time of a file, reported by os.stat().\"\"\"\u001b[0m\u001b[0;34m\u001b[0m\u001b[0;34m\u001b[0m\u001b[0m\n\u001b[0;32m---> 55\u001b[0;31m     \u001b[0;32mreturn\u001b[0m \u001b[0mos\u001b[0m\u001b[0;34m.\u001b[0m\u001b[0mstat\u001b[0m\u001b[0;34m(\u001b[0m\u001b[0mfilename\u001b[0m\u001b[0;34m)\u001b[0m\u001b[0;34m.\u001b[0m\u001b[0mst_mtime\u001b[0m\u001b[0;34m\u001b[0m\u001b[0;34m\u001b[0m\u001b[0m\n\u001b[0m\u001b[1;32m     56\u001b[0m \u001b[0;34m\u001b[0m\u001b[0m\n\u001b[1;32m     57\u001b[0m \u001b[0;34m\u001b[0m\u001b[0m\n",
      "\u001b[0;31mFileNotFoundError\u001b[0m: [Errno 2] No such file or directory: 'test.txt'"
     ]
    }
   ],
   "source": [
    "import os.path, time\n",
    "print(\"Last modified: %s\" % time.ctime(os.path.getmtime(\"test.txt\")))\n",
    "print(\"Created: %s\" % time.ctime(os.path.getctime(\"test.txt\")))"
   ]
  },
  {
   "cell_type": "raw",
   "metadata": {},
   "source": [
    "Q65: Write a Python program to convert seconds to day, hour, minutes and seconds."
   ]
  },
  {
   "cell_type": "code",
   "execution_count": 19,
   "metadata": {},
   "outputs": [
    {
     "name": "stdout",
     "output_type": "stream",
     "text": [
      "Please inter your sconds:86399\n",
      "Your Days is 1 and your Hours is 24 and your Minuts is 1440\n"
     ]
    }
   ],
   "source": [
    "second= int(input('Please inter your sconds:'))\n",
    "\n",
    "D_s= round(second/ (3600 *24))\n",
    "\n",
    "H_s= round(second/(3600 ))\n",
    "\n",
    "Minuts= round(second/(60))\n",
    "\n",
    "\n",
    "print('Your Days is {} and your Hours is {} and your Minuts is {}'.format(D_s, H_s, Minuts))"
   ]
  },
  {
   "cell_type": "code",
   "execution_count": 30,
   "metadata": {},
   "outputs": [
    {
     "name": "stdout",
     "output_type": "stream",
     "text": [
      "Please inter your sconds:86399\n",
      "Your Days is: 0.999988425925926 \n",
      "your Hours is: 23.99972222222222\n",
      "your Minuts is: -84960.01666666666\n",
      "your second is: -310953601\n"
     ]
    }
   ],
   "source": [
    "second= int(input('Please inter your sconds:'))\n",
    "\n",
    "Days= second/(3600 *24)\n",
    "second\n",
    "\n",
    "Hours= (second )/(3600)\n",
    "\n",
    "Minuts= (second - ( 3600 * 24 * 60))/ 60\n",
    "\n",
    "seconds= second - (3600 * 24 * 60* 60)\n",
    "\n",
    "print('Your Days is: {} \\nyour Hours is: {}\\nyour Minuts is: {}\\nyour second is: {}'.format(Days, \n",
    "                                                                                        Hours, Minuts, seconds))"
   ]
  },
  {
   "cell_type": "raw",
   "metadata": {},
   "source": [
    " 66: Write a Python program to calculate body mass index."
   ]
  },
  {
   "cell_type": "code",
   "execution_count": 9,
   "metadata": {},
   "outputs": [
    {
     "name": "stdout",
     "output_type": "stream",
     "text": [
      "Please input your Height in ceantimeter:175\n",
      "Please input your weight in kilogeram:75\n",
      "Your BMI is: 0.0\n"
     ]
    }
   ],
   "source": [
    "Height= int(input('Please input your Height in ceantimeter:'))\n",
    "Weight= int(input('Please input your weight in kilogeram:' ))\n",
    "BMI=Weight/(Height*Height)\n",
    "\n",
    "print('Your BMI is:',round(BMI,2))"
   ]
  },
  {
   "cell_type": "raw",
   "metadata": {},
   "source": [
    "67: Write a Python program to convert pressure in kilopascals to pounds per square inch,a millimeter of mercury (mmHg) and atmosphere pressure."
   ]
  },
  {
   "cell_type": "code",
   "execution_count": null,
   "metadata": {},
   "outputs": [],
   "source": []
  },
  {
   "cell_type": "code",
   "execution_count": null,
   "metadata": {},
   "outputs": [],
   "source": [
    "68:  Write a Python program to calculate the sum of the digits\n",
    "in an integer."
   ]
  },
  {
   "cell_type": "code",
   "execution_count": 32,
   "metadata": {},
   "outputs": [
    {
     "name": "stdout",
     "output_type": "stream",
     "text": [
      "Please input your number:5436\n",
      "18\n"
     ]
    }
   ],
   "source": [
    "numb= input('Please input your number:')\n",
    "\n",
    "j=0\n",
    "y=0\n",
    "for i in numb:\n",
    "    j=int(i)\n",
    "    y=j+y\n",
    "    \n",
    "print(y)"
   ]
  },
  {
   "cell_type": "code",
   "execution_count": 36,
   "metadata": {},
   "outputs": [
    {
     "data": {
      "text/plain": [
       "2.0"
      ]
     },
     "execution_count": 36,
     "metadata": {},
     "output_type": "execute_result"
    }
   ],
   "source": [
    "2936.76//1000"
   ]
  },
  {
   "cell_type": "code",
   "execution_count": 39,
   "metadata": {},
   "outputs": [],
   "source": [
    "import numpy as np"
   ]
  },
  {
   "cell_type": "raw",
   "metadata": {},
   "source": [
    "69: Write a Python program to sort three integers without using \n",
    "    conditional statements and loops."
   ]
  },
  {
   "cell_type": "code",
   "execution_count": 51,
   "metadata": {},
   "outputs": [
    {
     "name": "stdout",
     "output_type": "stream",
     "text": [
      "Please input your first nummber3\n",
      "Please input your second nummber8\n",
      "Please input your third nummber45\n",
      "3\n",
      "45\n"
     ]
    }
   ],
   "source": [
    "f_numb= int(input('Please input your first nummber'))\n",
    "s_numb= int(input('Please input your second nummber'))\n",
    "th_numb= int(input('Please input your third nummber'))\n",
    "\n",
    "#a=[f_numb, s_numb, th_numb]\n",
    "\n",
    "#minimum= np.min(a)\n",
    "#maximum= np.max(a)\n",
    "#middle= np.(minimum)\n",
    "\n",
    "#print(middle)\n",
    "\n",
    "a1= min(f_numb, s_numb, th_numb)\n",
    "a2= max(f_numb, s_numb, th_numb)\n",
    "\n",
    "print()"
   ]
  },
  {
   "cell_type": "raw",
   "metadata": {},
   "source": [
    "70- Write a Python program to sort files by date."
   ]
  },
  {
   "cell_type": "code",
   "execution_count": 1,
   "metadata": {},
   "outputs": [
    {
     "name": "stdout",
     "output_type": "stream",
     "text": [
      "\n"
     ]
    }
   ],
   "source": [
    "import glob\n",
    "import os\n",
    "\n",
    "files = glob.glob(\"*.txt\")\n",
    "files.sort(key=os.path.getmtime)\n",
    "print(\"\\n\".join(files))"
   ]
  },
  {
   "cell_type": "raw",
   "metadata": {},
   "source": [
    "71"
   ]
  },
  {
   "cell_type": "markdown",
   "metadata": {},
   "source": [
    "72- Write a Python program to get the details of math module."
   ]
  },
  {
   "cell_type": "code",
   "execution_count": 2,
   "metadata": {},
   "outputs": [
    {
     "name": "stdout",
     "output_type": "stream",
     "text": [
      "['__doc__', '__file__', '__loader__', '__name__', '__package__', '__spec__', 'acos', 'acosh', 'asin', 'asinh', 'atan', 'atan2', 'atanh', 'ceil', 'copysign', 'cos', 'cosh', 'degrees', 'e', 'erf', 'erfc', 'exp', 'expm1', 'fabs', 'factorial', 'floor', 'fmod', 'frexp', 'fsum', 'gamma', 'gcd', 'hypot', 'inf', 'isclose', 'isfinite', 'isinf', 'isnan', 'ldexp', 'lgamma', 'log', 'log10', 'log1p', 'log2', 'modf', 'nan', 'pi', 'pow', 'radians', 'remainder', 'sin', 'sinh', 'sqrt', 'tan', 'tanh', 'tau', 'trunc']\n"
     ]
    }
   ],
   "source": [
    "# Imports the math module\n",
    "import math            \n",
    "#Sets everything to a list of math module\n",
    "math_ls = dir(math) # \n",
    "print(math_ls)"
   ]
  },
  {
   "cell_type": "code",
   "execution_count": 4,
   "metadata": {},
   "outputs": [
    {
     "name": "stdout",
     "output_type": "stream",
     "text": [
      "['ALLOW_THREADS', 'AxisError', 'BUFSIZE', 'CLIP', 'ComplexWarning', 'DataSource', 'ERR_CALL', 'ERR_DEFAULT', 'ERR_IGNORE', 'ERR_LOG', 'ERR_PRINT', 'ERR_RAISE', 'ERR_WARN', 'FLOATING_POINT_SUPPORT', 'FPE_DIVIDEBYZERO', 'FPE_INVALID', 'FPE_OVERFLOW', 'FPE_UNDERFLOW', 'False_', 'Inf', 'Infinity', 'MAXDIMS', 'MAY_SHARE_BOUNDS', 'MAY_SHARE_EXACT', 'MachAr', 'ModuleDeprecationWarning', 'NAN', 'NINF', 'NZERO', 'NaN', 'PINF', 'PZERO', 'RAISE', 'RankWarning', 'SHIFT_DIVIDEBYZERO', 'SHIFT_INVALID', 'SHIFT_OVERFLOW', 'SHIFT_UNDERFLOW', 'ScalarType', 'Tester', 'TooHardError', 'True_', 'UFUNC_BUFSIZE_DEFAULT', 'UFUNC_PYVALS_NAME', 'VisibleDeprecationWarning', 'WRAP', '_NoValue', '_UFUNC_API', '__NUMPY_SETUP__', '__all__', '__builtins__', '__cached__', '__config__', '__dir__', '__doc__', '__file__', '__getattr__', '__git_revision__', '__loader__', '__mkl_version__', '__name__', '__package__', '__path__', '__spec__', '__version__', '_add_newdoc_ufunc', '_distributor_init', '_globals', '_mat', '_pytesttester', 'abs', 'absolute', 'add', 'add_docstring', 'add_newdoc', 'add_newdoc_ufunc', 'alen', 'all', 'allclose', 'alltrue', 'amax', 'amin', 'angle', 'any', 'append', 'apply_along_axis', 'apply_over_axes', 'arange', 'arccos', 'arccosh', 'arcsin', 'arcsinh', 'arctan', 'arctan2', 'arctanh', 'argmax', 'argmin', 'argpartition', 'argsort', 'argwhere', 'around', 'array', 'array2string', 'array_equal', 'array_equiv', 'array_repr', 'array_split', 'array_str', 'asanyarray', 'asarray', 'asarray_chkfinite', 'ascontiguousarray', 'asfarray', 'asfortranarray', 'asmatrix', 'asscalar', 'atleast_1d', 'atleast_2d', 'atleast_3d', 'average', 'bartlett', 'base_repr', 'binary_repr', 'bincount', 'bitwise_and', 'bitwise_not', 'bitwise_or', 'bitwise_xor', 'blackman', 'block', 'bmat', 'bool', 'bool8', 'bool_', 'broadcast', 'broadcast_arrays', 'broadcast_to', 'busday_count', 'busday_offset', 'busdaycalendar', 'byte', 'byte_bounds', 'bytes0', 'bytes_', 'c_', 'can_cast', 'cast', 'cbrt', 'cdouble', 'ceil', 'cfloat', 'char', 'character', 'chararray', 'choose', 'clip', 'clongdouble', 'clongfloat', 'column_stack', 'common_type', 'compare_chararrays', 'compat', 'complex', 'complex128', 'complex256', 'complex64', 'complex_', 'complexfloating', 'compress', 'concatenate', 'conj', 'conjugate', 'convolve', 'copy', 'copysign', 'copyto', 'core', 'corrcoef', 'correlate', 'cos', 'cosh', 'count_nonzero', 'cov', 'cross', 'csingle', 'ctypeslib', 'cumprod', 'cumproduct', 'cumsum', 'datetime64', 'datetime_as_string', 'datetime_data', 'deg2rad', 'degrees', 'delete', 'deprecate', 'deprecate_with_doc', 'diag', 'diag_indices', 'diag_indices_from', 'diagflat', 'diagonal', 'diff', 'digitize', 'disp', 'divide', 'divmod', 'dot', 'double', 'dsplit', 'dstack', 'dtype', 'e', 'ediff1d', 'einsum', 'einsum_path', 'emath', 'empty', 'empty_like', 'equal', 'errstate', 'euler_gamma', 'exp', 'exp2', 'expand_dims', 'expm1', 'extract', 'eye', 'fabs', 'fastCopyAndTranspose', 'fft', 'fill_diagonal', 'find_common_type', 'finfo', 'fix', 'flatiter', 'flatnonzero', 'flexible', 'flip', 'fliplr', 'flipud', 'float', 'float128', 'float16', 'float32', 'float64', 'float_', 'float_power', 'floating', 'floor', 'floor_divide', 'fmax', 'fmin', 'fmod', 'format_float_positional', 'format_float_scientific', 'format_parser', 'frexp', 'frombuffer', 'fromfile', 'fromfunction', 'fromiter', 'frompyfunc', 'fromregex', 'fromstring', 'full', 'full_like', 'fv', 'gcd', 'generic', 'genfromtxt', 'geomspace', 'get_array_wrap', 'get_include', 'get_printoptions', 'getbufsize', 'geterr', 'geterrcall', 'geterrobj', 'gradient', 'greater', 'greater_equal', 'half', 'hamming', 'hanning', 'heaviside', 'histogram', 'histogram2d', 'histogram_bin_edges', 'histogramdd', 'hsplit', 'hstack', 'hypot', 'i0', 'identity', 'iinfo', 'imag', 'in1d', 'index_exp', 'indices', 'inexact', 'inf', 'info', 'infty', 'inner', 'insert', 'int', 'int0', 'int16', 'int32', 'int64', 'int8', 'int_', 'intc', 'integer', 'interp', 'intersect1d', 'intp', 'invert', 'ipmt', 'irr', 'is_busday', 'isclose', 'iscomplex', 'iscomplexobj', 'isfinite', 'isfortran', 'isin', 'isinf', 'isnan', 'isnat', 'isneginf', 'isposinf', 'isreal', 'isrealobj', 'isscalar', 'issctype', 'issubclass_', 'issubdtype', 'issubsctype', 'iterable', 'ix_', 'kaiser', 'kernel_version', 'kron', 'lcm', 'ldexp', 'left_shift', 'less', 'less_equal', 'lexsort', 'lib', 'linalg', 'linspace', 'little_endian', 'load', 'loads', 'loadtxt', 'log', 'log10', 'log1p', 'log2', 'logaddexp', 'logaddexp2', 'logical_and', 'logical_not', 'logical_or', 'logical_xor', 'logspace', 'long', 'longcomplex', 'longdouble', 'longfloat', 'longlong', 'lookfor', 'ma', 'mafromtxt', 'mask_indices', 'mat', 'math', 'matmul', 'matrix', 'matrixlib', 'max', 'maximum', 'maximum_sctype', 'may_share_memory', 'mean', 'median', 'memmap', 'meshgrid', 'mgrid', 'min', 'min_scalar_type', 'minimum', 'mintypecode', 'mirr', 'mkl', 'mod', 'modf', 'moveaxis', 'msort', 'multiply', 'nan', 'nan_to_num', 'nanargmax', 'nanargmin', 'nancumprod', 'nancumsum', 'nanmax', 'nanmean', 'nanmedian', 'nanmin', 'nanpercentile', 'nanprod', 'nanquantile', 'nanstd', 'nansum', 'nanvar', 'nbytes', 'ndarray', 'ndenumerate', 'ndfromtxt', 'ndim', 'ndindex', 'nditer', 'negative', 'nested_iters', 'newaxis', 'nextafter', 'nonzero', 'not_equal', 'nper', 'npv', 'numarray', 'number', 'obj2sctype', 'object', 'object0', 'object_', 'ogrid', 'oldnumeric', 'ones', 'ones_like', 'os', 'outer', 'packbits', 'pad', 'partition', 'percentile', 'pi', 'piecewise', 'place', 'pmt', 'poly', 'poly1d', 'polyadd', 'polyder', 'polydiv', 'polyfit', 'polyint', 'polymul', 'polynomial', 'polysub', 'polyval', 'positive', 'power', 'ppmt', 'printoptions', 'prod', 'product', 'promote_types', 'ptp', 'put', 'put_along_axis', 'putmask', 'pv', 'quantile', 'r_', 'rad2deg', 'radians', 'random', 'rate', 'ravel', 'ravel_multi_index', 'real', 'real_if_close', 'rec', 'recarray', 'recfromcsv', 'recfromtxt', 'reciprocal', 'record', 'remainder', 'repeat', 'require', 'reshape', 'resize', 'result_type', 'right_shift', 'rint', 'roll', 'rollaxis', 'roots', 'rot90', 'round', 'round_', 'row_stack', 's_', 'safe_eval', 'save', 'savetxt', 'savez', 'savez_compressed', 'sctype2char', 'sctypeDict', 'sctypeNA', 'sctypes', 'searchsorted', 'select', 'set_numeric_ops', 'set_printoptions', 'set_string_function', 'setbufsize', 'setdiff1d', 'seterr', 'seterrcall', 'seterrobj', 'setxor1d', 'shape', 'shares_memory', 'short', 'show_config', 'sign', 'signbit', 'signedinteger', 'sin', 'sinc', 'single', 'singlecomplex', 'sinh', 'size', 'sometrue', 'sort', 'sort_complex', 'source', 'spacing', 'split', 'sqrt', 'square', 'squeeze', 'stack', 'std', 'str', 'str0', 'str_', 'string_', 'subtract', 'sum', 'swapaxes', 'sys', 'take', 'take_along_axis', 'tan', 'tanh', 'tensordot', 'test', 'testing', 'tile', 'timedelta64', 'trace', 'tracemalloc_domain', 'transpose', 'trapz', 'tri', 'tril', 'tril_indices', 'tril_indices_from', 'trim_zeros', 'triu', 'triu_indices', 'triu_indices_from', 'true_divide', 'trunc', 'typeDict', 'typeNA', 'typecodes', 'typename', 'ubyte', 'ufunc', 'uint', 'uint0', 'uint16', 'uint32', 'uint64', 'uint8', 'uintc', 'uintp', 'ulonglong', 'unicode', 'unicode_', 'union1d', 'unique', 'unpackbits', 'unravel_index', 'unsignedinteger', 'unwrap', 'use_hugepage', 'ushort', 'vander', 'var', 'vdot', 'vectorize', 'version', 'void', 'void0', 'vsplit', 'vstack', 'warnings', 'where', 'who', 'zeros', 'zeros_like']\n"
     ]
    }
   ],
   "source": [
    "import numpy as np\n",
    "rah= dir(np)\n",
    "print(rah)"
   ]
  },
  {
   "cell_type": "code",
   "execution_count": 5,
   "metadata": {},
   "outputs": [
    {
     "name": "stdout",
     "output_type": "stream",
     "text": [
      "['BooleanDtype', 'Categorical', 'CategoricalDtype', 'CategoricalIndex', 'DataFrame', 'DateOffset', 'DatetimeIndex', 'DatetimeTZDtype', 'ExcelFile', 'ExcelWriter', 'Flags', 'Float32Dtype', 'Float64Dtype', 'Float64Index', 'Grouper', 'HDFStore', 'Index', 'IndexSlice', 'Int16Dtype', 'Int32Dtype', 'Int64Dtype', 'Int64Index', 'Int8Dtype', 'Interval', 'IntervalDtype', 'IntervalIndex', 'MultiIndex', 'NA', 'NaT', 'NamedAgg', 'Period', 'PeriodDtype', 'PeriodIndex', 'RangeIndex', 'Series', 'SparseDtype', 'StringDtype', 'Timedelta', 'TimedeltaIndex', 'Timestamp', 'UInt16Dtype', 'UInt32Dtype', 'UInt64Dtype', 'UInt64Index', 'UInt8Dtype', '__builtins__', '__cached__', '__doc__', '__docformat__', '__file__', '__getattr__', '__git_version__', '__loader__', '__name__', '__package__', '__path__', '__spec__', '__version__', '_config', '_hashtable', '_is_numpy_dev', '_lib', '_libs', '_np_version_under1p17', '_np_version_under1p18', '_testing', '_tslib', '_typing', '_version', 'api', 'array', 'arrays', 'bdate_range', 'compat', 'concat', 'core', 'crosstab', 'cut', 'date_range', 'describe_option', 'errors', 'eval', 'factorize', 'get_dummies', 'get_option', 'infer_freq', 'interval_range', 'io', 'isna', 'isnull', 'json_normalize', 'lreshape', 'melt', 'merge', 'merge_asof', 'merge_ordered', 'notna', 'notnull', 'offsets', 'option_context', 'options', 'pandas', 'period_range', 'pivot', 'pivot_table', 'plotting', 'qcut', 'read_clipboard', 'read_csv', 'read_excel', 'read_feather', 'read_fwf', 'read_gbq', 'read_hdf', 'read_html', 'read_json', 'read_orc', 'read_parquet', 'read_pickle', 'read_sas', 'read_spss', 'read_sql', 'read_sql_query', 'read_sql_table', 'read_stata', 'read_table', 'reset_option', 'set_eng_float_format', 'set_option', 'show_versions', 'test', 'testing', 'timedelta_range', 'to_datetime', 'to_numeric', 'to_pickle', 'to_timedelta', 'tseries', 'unique', 'util', 'value_counts', 'wide_to_long']\n"
     ]
    }
   ],
   "source": [
    "import pandas as pd\n",
    "\n",
    "pand= dir(pd)\n",
    "print(pand)"
   ]
  },
  {
   "cell_type": "raw",
   "metadata": {},
   "source": [
    "73- Write a Python program to calculate midpoints of a line."
   ]
  },
  {
   "cell_type": "code",
   "execution_count": 20,
   "metadata": {},
   "outputs": [
    {
     "name": "stdout",
     "output_type": "stream",
     "text": [
      "Please inter x1 value of your line4\n",
      "Please inter x2 value of your line56\n",
      "Please inter y1 value of your line8\n",
      "Please inter y2 point of your line6\n",
      "Your midpoint is: (30.0, 7.0)\n"
     ]
    }
   ],
   "source": [
    "x1=int(input('Please inter x1 value of your line'))\n",
    "x2=int(input('Please inter x2 value of your line'))\n",
    "y1=int(input('Please inter y1 value of your line'))\n",
    "y2=int(input('Please inter y2 point of your line'))\n",
    "midpoint=(x1/2+x2/2, y1/2+ y2/2)\n",
    "print(f'Your midpoint is: {midpoint}')"
   ]
  },
  {
   "cell_type": "code",
   "execution_count": 17,
   "metadata": {},
   "outputs": [
    {
     "name": "stdout",
     "output_type": "stream",
     "text": [
      "Please inter start point of your line: 4\n"
     ]
    }
   ],
   "source": [
    "A=int(input('Please inter start point of your line: '))"
   ]
  },
  {
   "cell_type": "code",
   "execution_count": 13,
   "metadata": {},
   "outputs": [
    {
     "data": {
      "text/plain": [
       "1.5"
      ]
     },
     "execution_count": 13,
     "metadata": {},
     "output_type": "execute_result"
    }
   ],
   "source": [
    "C[0]/2"
   ]
  },
  {
   "cell_type": "raw",
   "metadata": {},
   "source": [
    "74-Write a Python program to get the copyright information and write Copyright information in Python code. "
   ]
  },
  {
   "cell_type": "code",
   "execution_count": 21,
   "metadata": {},
   "outputs": [
    {
     "name": "stdout",
     "output_type": "stream",
     "text": [
      "\n",
      "python copyright information\n",
      "Copyright (c) 2001-2021 Python Software Foundation.\n",
      "All Rights Reserved.\n",
      "\n",
      "Copyright (c) 2000 BeOpen.com.\n",
      "All Rights Reserved.\n",
      "\n",
      "Copyright (c) 1995-2001 Corporation for National Research Initiatives.\n",
      "All Rights Reserved.\n",
      "\n",
      "Copyright (c) 1991-1995 Stichting Mathematisch Centrum, Amsterdam.\n",
      "All Rights Reserved.\n"
     ]
    }
   ],
   "source": [
    "import sys\n",
    "print('\\npython copyright information')\n",
    "print(sys.copyright)"
   ]
  },
  {
   "cell_type": "raw",
   "metadata": {},
   "source": [
    "76-Write a Python program to get the command-line arguments (name of the script, \n",
    "    the number of arguments,arguments) passed to a script."
   ]
  },
  {
   "cell_type": "code",
   "execution_count": null,
   "metadata": {},
   "outputs": [],
   "source": [
    "import sys\n",
    "print(\"This is the name/path of the script:\"),sys.argv[0]\n",
    "print(\"Number of arguments:\",len(sys.argv))\n",
    "print(\"Argument List:\",str(sys.argv))"
   ]
  },
  {
   "cell_type": "raw",
   "metadata": {},
   "source": [
    "77-Write a Python program to test whether the system is a big-endian platform or little-endian platform.\n",
    "\n",
    "sys.byteorder: An indicator of the native byte order. This will have the value 'big' on big-endian (most-significant byte first) platforms, and 'little' on little-endian (least-significant byte first) platforms."
   ]
  },
  {
   "cell_type": "code",
   "execution_count": 28,
   "metadata": {},
   "outputs": [
    {
     "name": "stdout",
     "output_type": "stream",
     "text": [
      "\n",
      "Little-endian platform.\n",
      "\n"
     ]
    }
   ],
   "source": [
    "import sys\n",
    "print()\n",
    "if sys.byteorder == \"little\":\n",
    "    #intel, alpha\n",
    "    print(\"Little-endian platform.\")\n",
    "else:\n",
    "    #motorola, sparc\n",
    "    print(\"Big-endian platform.\")\n",
    "print()"
   ]
  },
  {
   "cell_type": "raw",
   "metadata": {},
   "source": [
    "78-Write a Python program to find the available built-in modules."
   ]
  },
  {
   "cell_type": "code",
   "execution_count": 29,
   "metadata": {},
   "outputs": [
    {
     "name": "stdout",
     "output_type": "stream",
     "text": [
      "_abc, _ast, _codecs, _collections, _functools, _imp, _io, _locale,\n",
      "_operator, _signal, _sre, _stat, _string, _symtable, _thread,\n",
      "_tracemalloc, _warnings, _weakref, atexit, builtins, errno,\n",
      "faulthandler, gc, itertools, marshal, posix, pwd, sys, time,\n",
      "xxsubtype, zipimport\n"
     ]
    }
   ],
   "source": [
    "import sys\n",
    "import textwrap\n",
    "module_name = ', '.join(sorted(sys.builtin_module_names))\n",
    "print(textwrap.fill(module_name, width=70))"
   ]
  },
  {
   "cell_type": "raw",
   "metadata": {},
   "source": [
    "79- Write a Python program to get the size of an object in bytes."
   ]
  },
  {
   "cell_type": "code",
   "execution_count": 31,
   "metadata": {},
   "outputs": [
    {
     "name": "stdout",
     "output_type": "stream",
     "text": [
      "Please input your size:fags\n"
     ]
    }
   ],
   "source": [
    "A= input('Please input your size:')\n",
    "A=A.lower()\n",
    "\n",
    "if A=='byte':\n",
    "    print(f'Your desired size is 1 byte')\n",
    "elif A=='kilobyte':\n",
    "    print(f'Your desired size is 1024 byte')\n",
    "elif A=='megabyte':\n",
    "     print(f'Your desired size is 1024 byte')"
   ]
  },
  {
   "cell_type": "raw",
   "metadata": {},
   "source": [
    "81-\n",
    "\n",
    "Write a Python program to concatenate N strings."
   ]
  },
  {
   "cell_type": "code",
   "execution_count": 34,
   "metadata": {},
   "outputs": [
    {
     "name": "stdout",
     "output_type": "stream",
     "text": [
      "Please inter your first desired word: jhsd\n",
      "Please inter your second desired word: sdsa\n",
      "Your desired concatenated word is: jhsdsdsa\n"
     ]
    }
   ],
   "source": [
    "A= input('Please inter your first desired word: ')\n",
    "B= input('Please inter your second desired word: ')\n",
    "\n",
    "C= A+B\n",
    "print(f'Your desired concatenated word is: {C}')"
   ]
  },
  {
   "cell_type": "code",
   "execution_count": 36,
   "metadata": {},
   "outputs": [
    {
     "name": "stdout",
     "output_type": "stream",
     "text": [
      "your concatenated word is: red-black-wight\n"
     ]
    }
   ],
   "source": [
    "colors=['red', 'black', 'wight']\n",
    "c_colors='-'.join(colors)\n",
    "print(f'your concatenated word is: {c_colors}')"
   ]
  },
  {
   "cell_type": "raw",
   "metadata": {},
   "source": [
    "82- Write a Python program to calculate the sum of all items of a container (tuple, list, set, dictionary).\n",
    "\n",
    "Some objects contain references to other objects; these are called containers. Generally, containers provide a way to access the contained objects and to iterate over them. Examples of containers are lists, sets, tuples and dictionaries."
   ]
  },
  {
   "cell_type": "code",
   "execution_count": 42,
   "metadata": {},
   "outputs": [
    {
     "name": "stdout",
     "output_type": "stream",
     "text": [
      "89\n"
     ]
    }
   ],
   "source": [
    "container= [10, 30, 49]\n",
    "Sum=0\n",
    "for i in range(len(container)):\n",
    "    Sum+=container[i]\n",
    "    \n",
    "print(Sum)"
   ]
  },
  {
   "cell_type": "raw",
   "metadata": {},
   "source": [
    "83-Write a Python program to test whether all numbers of a list is greater than a certain number."
   ]
  },
  {
   "cell_type": "code",
   "execution_count": 52,
   "metadata": {},
   "outputs": [
    {
     "name": "stdout",
     "output_type": "stream",
     "text": [
      "5 is not greater than 7\n",
      "8 is greater than 7\n",
      "9 is greater than 7\n"
     ]
    }
   ],
   "source": [
    "a=[5, 8, 9]\n",
    "for i in a:\n",
    "    if i>7:\n",
    "        print(f'{i} is greater than 7')\n",
    "    else:\n",
    "        print(f'{i } is not greater than 7')\n",
    "        "
   ]
  },
  {
   "cell_type": "code",
   "execution_count": 59,
   "metadata": {},
   "outputs": [
    {
     "name": "stdout",
     "output_type": "stream",
     "text": [
      "False\n"
     ]
    }
   ],
   "source": [
    "print(all(x>5 for x in a))"
   ]
  },
  {
   "cell_type": "raw",
   "metadata": {},
   "source": [
    "84-Write a Python program to count the number of occurrence of a specific character in a string."
   ]
  },
  {
   "cell_type": "code",
   "execution_count": 60,
   "metadata": {},
   "outputs": [
    {
     "name": "stdout",
     "output_type": "stream",
     "text": [
      "There is 3 time i in the text\n"
     ]
    }
   ],
   "source": [
    "A='This is a text string'\n",
    "k=0\n",
    "for j in A:\n",
    "    if j=='i':\n",
    "        k+=1\n",
    "    else:\n",
    "        pass\n",
    "    \n",
    "print(f'There is {k} time i in the text')"
   ]
  },
  {
   "cell_type": "code",
   "execution_count": 63,
   "metadata": {},
   "outputs": [
    {
     "name": "stdout",
     "output_type": "stream",
     "text": [
      "There is a 3 time of i in our text\n"
     ]
    }
   ],
   "source": [
    "D=A.count('i')\n",
    "print(f'There is a {D} time of i in our text')"
   ]
  },
  {
   "cell_type": "raw",
   "metadata": {},
   "source": [
    "85-Write a Python program to check whether a file path is a file or a directory."
   ]
  },
  {
   "cell_type": "code",
   "execution_count": null,
   "metadata": {},
   "outputs": [],
   "source": [
    "import os  \n",
    "if os.path.isdir(path):  \n",
    "    print(\"\\nIt is a directory\")  \n",
    "elif os.path.isfile(path):  \n",
    "    print(\"\\nIt is a normal file\")  \n",
    "else:  \n",
    "    print(\"It is a special file (socket, FIFO, device file)\" )\n",
    "print()"
   ]
  },
  {
   "cell_type": "raw",
   "metadata": {},
   "source": [
    "86-Write a Python program to get the ASCII value of a character.\n",
    "\n",
    "ASCII (Listeni/ˈæski/ ass-kee), abbreviated from American Standard Code for Information Interchange, is a character encoding standard. ASCII codes represent text in computers, telecommunications equipment, and other devices. Most modern character-encoding schemes are based on ASCII, although they support many additional characters."
   ]
  },
  {
   "cell_type": "code",
   "execution_count": 67,
   "metadata": {},
   "outputs": [
    {
     "data": {
      "text/plain": [
       "110"
      ]
     },
     "execution_count": 67,
     "metadata": {},
     "output_type": "execute_result"
    }
   ],
   "source": [
    "ord('n')"
   ]
  },
  {
   "cell_type": "raw",
   "metadata": {},
   "source": [
    "87-Write a Python program to get the size of a file."
   ]
  },
  {
   "cell_type": "code",
   "execution_count": 68,
   "metadata": {},
   "outputs": [
    {
     "ename": "FileNotFoundError",
     "evalue": "[Errno 2] No such file or directory: 'abc.txt'",
     "output_type": "error",
     "traceback": [
      "\u001b[0;31m---------------------------------------------------------------------------\u001b[0m",
      "\u001b[0;31mFileNotFoundError\u001b[0m                         Traceback (most recent call last)",
      "\u001b[0;32m<ipython-input-68-8190dabecabb>\u001b[0m in \u001b[0;36m<module>\u001b[0;34m\u001b[0m\n\u001b[1;32m      1\u001b[0m \u001b[0;32mimport\u001b[0m \u001b[0mos\u001b[0m\u001b[0;34m\u001b[0m\u001b[0;34m\u001b[0m\u001b[0m\n\u001b[0;32m----> 2\u001b[0;31m \u001b[0mfile_size\u001b[0m \u001b[0;34m=\u001b[0m \u001b[0mos\u001b[0m\u001b[0;34m.\u001b[0m\u001b[0mpath\u001b[0m\u001b[0;34m.\u001b[0m\u001b[0mgetsize\u001b[0m\u001b[0;34m(\u001b[0m\u001b[0;34m\"abc.txt\"\u001b[0m\u001b[0;34m)\u001b[0m\u001b[0;34m\u001b[0m\u001b[0;34m\u001b[0m\u001b[0m\n\u001b[0m\u001b[1;32m      3\u001b[0m \u001b[0mprint\u001b[0m\u001b[0;34m(\u001b[0m\u001b[0;34m\"\\nThe size of abc.txt is :\"\u001b[0m\u001b[0;34m,\u001b[0m\u001b[0mfile_size\u001b[0m\u001b[0;34m,\u001b[0m\u001b[0;34m\"Bytes\"\u001b[0m\u001b[0;34m)\u001b[0m\u001b[0;34m\u001b[0m\u001b[0;34m\u001b[0m\u001b[0m\n\u001b[1;32m      4\u001b[0m \u001b[0mprint\u001b[0m\u001b[0;34m(\u001b[0m\u001b[0;34m)\u001b[0m\u001b[0;34m\u001b[0m\u001b[0;34m\u001b[0m\u001b[0m\n",
      "\u001b[0;32m~/anaconda3/lib/python3.7/genericpath.py\u001b[0m in \u001b[0;36mgetsize\u001b[0;34m(filename)\u001b[0m\n\u001b[1;32m     48\u001b[0m \u001b[0;32mdef\u001b[0m \u001b[0mgetsize\u001b[0m\u001b[0;34m(\u001b[0m\u001b[0mfilename\u001b[0m\u001b[0;34m)\u001b[0m\u001b[0;34m:\u001b[0m\u001b[0;34m\u001b[0m\u001b[0;34m\u001b[0m\u001b[0m\n\u001b[1;32m     49\u001b[0m     \u001b[0;34m\"\"\"Return the size of a file, reported by os.stat().\"\"\"\u001b[0m\u001b[0;34m\u001b[0m\u001b[0;34m\u001b[0m\u001b[0m\n\u001b[0;32m---> 50\u001b[0;31m     \u001b[0;32mreturn\u001b[0m \u001b[0mos\u001b[0m\u001b[0;34m.\u001b[0m\u001b[0mstat\u001b[0m\u001b[0;34m(\u001b[0m\u001b[0mfilename\u001b[0m\u001b[0;34m)\u001b[0m\u001b[0;34m.\u001b[0m\u001b[0mst_size\u001b[0m\u001b[0;34m\u001b[0m\u001b[0;34m\u001b[0m\u001b[0m\n\u001b[0m\u001b[1;32m     51\u001b[0m \u001b[0;34m\u001b[0m\u001b[0m\n\u001b[1;32m     52\u001b[0m \u001b[0;34m\u001b[0m\u001b[0m\n",
      "\u001b[0;31mFileNotFoundError\u001b[0m: [Errno 2] No such file or directory: 'abc.txt'"
     ]
    }
   ],
   "source": [
    "import os\n",
    "file_size = os.path.getsize(\"abc.txt\")\n",
    "print(\"\\nThe size of abc.txt is :\",file_size,\"Bytes\")\n",
    "print()"
   ]
  },
  {
   "cell_type": "raw",
   "metadata": {},
   "source": [
    "88-Given variables x=30 and y=20, write a Python program to print \"30+20=50\"."
   ]
  },
  {
   "cell_type": "code",
   "execution_count": 69,
   "metadata": {},
   "outputs": [
    {
     "name": "stdout",
     "output_type": "stream",
     "text": [
      "30+20=50\n"
     ]
    }
   ],
   "source": [
    "x=30\n",
    "y=20\n",
    "\n",
    "print(f'{x}+{y}={x+y}')"
   ]
  },
  {
   "cell_type": "raw",
   "metadata": {},
   "source": [
    "89-Write a Python program to perform an action if a condition is true.\n",
    "\n",
    "Given a variable name, if the value is 1, display the string \"First day of a Month!\" and do nothing if the value is not equal."
   ]
  },
  {
   "cell_type": "raw",
   "metadata": {},
   "source": [
    "91-Swapping two variables refers to mutually exchanging the values of the variables. Generally, this is done with the data in memory.\n",
    "\n",
    "The simplest method to swap two variables is to use a third temporary variable :\n",
    "\n",
    "define swap(a, b)\n",
    "    temp := a\n",
    "    a := b\n",
    "    b := temp\n"
   ]
  },
  {
   "cell_type": "code",
   "execution_count": 2,
   "metadata": {},
   "outputs": [
    {
     "name": "stdout",
     "output_type": "stream",
     "text": [
      "30\n",
      "20\n"
     ]
    }
   ],
   "source": [
    "a= 20\n",
    "b=30\n",
    "\n",
    "a,b= b,a\n",
    "\n",
    "print(a)\n",
    "print(b)"
   ]
  },
  {
   "cell_type": "raw",
   "metadata": {},
   "source": [
    "93-Write a Python program to get the Identity, Type, and Value of an object."
   ]
  },
  {
   "cell_type": "code",
   "execution_count": 4,
   "metadata": {},
   "outputs": [
    {
     "name": "stdout",
     "output_type": "stream",
     "text": [
      "<class 'int'>\n",
      "94320246196000\n"
     ]
    }
   ],
   "source": [
    "x=34\n",
    "print(type(x))\n",
    "print(id(x))"
   ]
  },
  {
   "cell_type": "raw",
   "metadata": {},
   "source": [
    "94-Write a Python program to convert a byte string to a list of integers."
   ]
  },
  {
   "cell_type": "code",
   "execution_count": 7,
   "metadata": {},
   "outputs": [
    {
     "name": "stdout",
     "output_type": "stream",
     "text": [
      "\n",
      "\n",
      "Convert bytes of the said string to a list of integers:\n",
      "[65, 98, 99]\n",
      "\n"
     ]
    }
   ],
   "source": [
    "x = b'Abc'\n",
    "print()\n",
    "print(\"\\nConvert bytes of the said string to a list of integers:\")\n",
    "print(list(x))\n",
    "print()"
   ]
  },
  {
   "cell_type": "raw",
   "metadata": {},
   "source": [
    "95-Write a Python program to check whether a string is numeric.\n"
   ]
  },
  {
   "cell_type": "code",
   "execution_count": 13,
   "metadata": {},
   "outputs": [
    {
     "name": "stdout",
     "output_type": "stream",
     "text": [
      "Not numeric\n"
     ]
    }
   ],
   "source": [
    "j='a123'\n",
    "\n",
    "try:\n",
    "    i=int(j)\n",
    "except(TypeError,ValueError):\n",
    "    print('Not numeric')"
   ]
  },
  {
   "cell_type": "raw",
   "metadata": {},
   "source": [
    "98-Write a Python program to get the system time.\n",
    "\n",
    "Note : The system time is important for debugging, network information, random number seeds, or something as simple as program performance.\n",
    "\n"
   ]
  },
  {
   "cell_type": "code",
   "execution_count": 16,
   "metadata": {},
   "outputs": [
    {
     "data": {
      "text/plain": [
       "'Fri Sep 17 11:09:03 2021'"
      ]
     },
     "execution_count": 16,
     "metadata": {},
     "output_type": "execute_result"
    }
   ],
   "source": [
    "import time\n",
    "\n",
    "time.ctime()"
   ]
  },
  {
   "cell_type": "raw",
   "metadata": {},
   "source": [
    "110-Write a Python program to get numbers divisible by fifteen from a list using an anonymous function."
   ]
  },
  {
   "cell_type": "code",
   "execution_count": 17,
   "metadata": {},
   "outputs": [
    {
     "name": "stdout",
     "output_type": "stream",
     "text": [
      "[45, 60, 105]\n"
     ]
    }
   ],
   "source": [
    "num_list = [45, 55, 60, 37, 100, 105, 220]\n",
    "new_list=[]\n",
    "for i in num_list:\n",
    "    if i%15==0:\n",
    "        new_list.append(i)\n",
    "        \n",
    "print(new_list)"
   ]
  },
  {
   "cell_type": "raw",
   "metadata": {},
   "source": [
    "112-Write a Python program to remove the first item from a specified list.\n",
    "color = [\"Red\", \"Black\", \"Green\", \"White\", \"Orange\"]"
   ]
  },
  {
   "cell_type": "code",
   "execution_count": 3,
   "metadata": {},
   "outputs": [
    {
     "data": {
      "text/plain": [
       "'Red'"
      ]
     },
     "execution_count": 3,
     "metadata": {},
     "output_type": "execute_result"
    }
   ],
   "source": [
    "color = [\"Red\", \"Black\", \"Green\", \"White\", \"Orange\"]\n",
    "color[0]"
   ]
  },
  {
   "cell_type": "code",
   "execution_count": 4,
   "metadata": {},
   "outputs": [],
   "source": [
    "del color[0]"
   ]
  },
  {
   "cell_type": "code",
   "execution_count": 5,
   "metadata": {},
   "outputs": [
    {
     "data": {
      "text/plain": [
       "['Black', 'Green', 'White', 'Orange']"
      ]
     },
     "execution_count": 5,
     "metadata": {},
     "output_type": "execute_result"
    }
   ],
   "source": [
    "color"
   ]
  },
  {
   "cell_type": "raw",
   "metadata": {},
   "source": [
    "113-Write a Python program to input a number, if it is not a number generates an error message."
   ]
  },
  {
   "cell_type": "code",
   "execution_count": 7,
   "metadata": {},
   "outputs": [
    {
     "name": "stdout",
     "output_type": "stream",
     "text": [
      "Please input your number:ydfs\n"
     ]
    },
    {
     "ename": "ValueError",
     "evalue": "invalid literal for int() with base 10: 'ydfs'",
     "output_type": "error",
     "traceback": [
      "\u001b[0;31m---------------------------------------------------------------------------\u001b[0m",
      "\u001b[0;31mValueError\u001b[0m                                Traceback (most recent call last)",
      "\u001b[0;32m<ipython-input-7-a4a84977c92f>\u001b[0m in \u001b[0;36m<module>\u001b[0;34m\u001b[0m\n\u001b[0;32m----> 1\u001b[0;31m \u001b[0mnumber\u001b[0m\u001b[0;34m=\u001b[0m \u001b[0mint\u001b[0m\u001b[0;34m(\u001b[0m\u001b[0minput\u001b[0m\u001b[0;34m(\u001b[0m\u001b[0;34m'Please input your number:'\u001b[0m\u001b[0;34m)\u001b[0m\u001b[0;34m)\u001b[0m\u001b[0;34m\u001b[0m\u001b[0;34m\u001b[0m\u001b[0m\n\u001b[0m",
      "\u001b[0;31mValueError\u001b[0m: invalid literal for int() with base 10: 'ydfs'"
     ]
    }
   ],
   "source": [
    "number= int(input('Please input your number:'))"
   ]
  },
  {
   "cell_type": "code",
   "execution_count": 11,
   "metadata": {},
   "outputs": [
    {
     "name": "stdout",
     "output_type": "stream",
     "text": [
      "Please inter your number: sg\n",
      "\n",
      " This is not a number. Try again\n",
      "Please inter your number: sfd\n",
      "\n",
      " This is not a number. Try again\n",
      "Please inter your number: 234\n"
     ]
    }
   ],
   "source": [
    "while True:\n",
    "    try:\n",
    "        numb= int(input('Please inter your number: '))\n",
    "        break\n",
    "    except ValueError:\n",
    "        print('\\n This is not a number. Try again')"
   ]
  },
  {
   "cell_type": "raw",
   "metadata": {},
   "source": [
    "114-Write a Python program to filter the positive numbers from a list.\n",
    "\n",
    "Positive Numbers: Any number above zero is known as a positive number.\n",
    "Positive numbers are written without any sign or a '+' sign in front \n",
    "of them and they are counted up from zero, i.e. 1, + 2, 3, +4 etc."
   ]
  },
  {
   "cell_type": "code",
   "execution_count": 20,
   "metadata": {},
   "outputs": [
    {
     "name": "stdout",
     "output_type": "stream",
     "text": [
      "2350"
     ]
    }
   ],
   "source": [
    "numbers=[2,3,5,-2,-0,-6]\n",
    "\n",
    "for i in numbers:\n",
    "    if i >=0:\n",
    "        print(i, end='')"
   ]
  },
  {
   "cell_type": "code",
   "execution_count": 28,
   "metadata": {},
   "outputs": [
    {
     "data": {
      "text/plain": [
       "[2, 3, 5]"
      ]
     },
     "execution_count": 28,
     "metadata": {},
     "output_type": "execute_result"
    }
   ],
   "source": [
    "list(filter(lambda x: x>0,numbers))"
   ]
  },
  {
   "cell_type": "code",
   "execution_count": 30,
   "metadata": {},
   "outputs": [
    {
     "data": {
      "text/plain": [
       "[2, 3, 5]"
      ]
     },
     "execution_count": 30,
     "metadata": {},
     "output_type": "execute_result"
    }
   ],
   "source": [
    "[n for n in numbers if n>0]"
   ]
  },
  {
   "cell_type": "raw",
   "metadata": {},
   "source": [
    "115-Write a Python program to compute the product of a list of integers (without using for loop)"
   ]
  },
  {
   "cell_type": "code",
   "execution_count": 32,
   "metadata": {},
   "outputs": [
    {
     "data": {
      "text/plain": [
       "1440"
      ]
     },
     "execution_count": 32,
     "metadata": {},
     "output_type": "execute_result"
    }
   ],
   "source": [
    "numbers=[2,3,5,-2,4,-6]\n",
    "numbers[0]*numbers[1]*numbers[2]*numbers[3]*numbers[4]*numbers[5]"
   ]
  },
  {
   "cell_type": "code",
   "execution_count": 35,
   "metadata": {},
   "outputs": [
    {
     "name": "stdout",
     "output_type": "stream",
     "text": [
      "Original list numbers:\n",
      "[10, 20, 30]\n",
      "\n",
      "Product of the said numbers (without using for loop): 6000\n"
     ]
    }
   ],
   "source": [
    "from functools import reduce\n",
    "nums = [10, 20, 30,]\n",
    "print(\"Original list numbers:\")\n",
    "print(nums)\n",
    "nums_product = reduce( (lambda x, y: x * y), nums)\n",
    "print(\"\\nProduct of the said numbers (without using for loop):\",nums_product)"
   ]
  },
  {
   "cell_type": "raw",
   "metadata": {},
   "source": [
    "121-Write a Python program to determine whether variable is defined or not."
   ]
  },
  {
   "cell_type": "code",
   "execution_count": 38,
   "metadata": {},
   "outputs": [
    {
     "name": "stdout",
     "output_type": "stream",
     "text": [
      "Variable is defined.\n",
      "Variable is not defined....!\n"
     ]
    }
   ],
   "source": [
    "try:\n",
    "  x = 1\n",
    "except NameError:\n",
    "  print(\"Variable is not defined....!\")\n",
    "else:\n",
    "  print(\"Variable is defined.\")\n",
    "\n",
    "try:\n",
    "  y\n",
    "except NameError:\n",
    "  print(\"Variable is not defined....!\")\n",
    "else:\n",
    "  print(\"Variable is defined.\")"
   ]
  },
  {
   "cell_type": "code",
   "execution_count": 42,
   "metadata": {},
   "outputs": [
    {
     "name": "stdout",
     "output_type": "stream",
     "text": [
      "Variable is defined\n",
      "Variable is not defined ...!\n"
     ]
    }
   ],
   "source": [
    "try:\n",
    "    x=1\n",
    "except:\n",
    "    print('Variable is not defined')\n",
    "else:\n",
    "    print('Variable is defined')\n",
    "try:\n",
    "    y\n",
    "except:\n",
    "    print('Variable is not defined ...!')\n",
    "else:\n",
    "    print('Variable is defined ')"
   ]
  },
  {
   "cell_type": "raw",
   "metadata": {},
   "source": [
    "124-Write a Python program to check whether multiple variables have the same value."
   ]
  },
  {
   "cell_type": "code",
   "execution_count": 44,
   "metadata": {},
   "outputs": [
    {
     "name": "stdout",
     "output_type": "stream",
     "text": [
      "All are same\n"
     ]
    }
   ],
   "source": [
    "x=20\n",
    "y=20\n",
    "z=20\n",
    "\n",
    "if x==y==z:\n",
    "    print(f'All are same')\n",
    "else:\n",
    "    print(f'They are not same')"
   ]
  },
  {
   "cell_type": "raw",
   "metadata": {},
   "source": [
    "125-Write a Python program to sum of all counts in a collections."
   ]
  },
  {
   "cell_type": "code",
   "execution_count": 46,
   "metadata": {},
   "outputs": [
    {
     "name": "stdout",
     "output_type": "stream",
     "text": [
      "10\n"
     ]
    }
   ],
   "source": [
    "boo=[3,3,2,1,5,8,7,4,9,1]\n",
    "j=0\n",
    "for i in boo:\n",
    "    j+=1\n",
    "    continue\n",
    "    \n",
    "print(j)"
   ]
  },
  {
   "cell_type": "code",
   "execution_count": 63,
   "metadata": {},
   "outputs": [
    {
     "data": {
      "text/plain": [
       "12"
      ]
     },
     "execution_count": 63,
     "metadata": {},
     "output_type": "execute_result"
    }
   ],
   "source": [
    "import collections\n",
    "foo=[3,1,3,4,5,5,6,67,76,1,5,64]\n",
    "sum(collections.Counter(foo).values())"
   ]
  },
  {
   "cell_type": "code",
   "execution_count": 64,
   "metadata": {},
   "outputs": [
    {
     "data": {
      "text/plain": [
       "10"
      ]
     },
     "execution_count": 64,
     "metadata": {},
     "output_type": "execute_result"
    }
   ],
   "source": [
    "boo=[3,3,2,1,5,8,7,4,9,1]\n",
    "len(boo)"
   ]
  },
  {
   "cell_type": "raw",
   "metadata": {},
   "source": [
    "128-Write a Python program to check whether lowercase letters exist in a string."
   ]
  },
  {
   "cell_type": "code",
   "execution_count": 68,
   "metadata": {},
   "outputs": [
    {
     "data": {
      "text/plain": [
       "True"
      ]
     },
     "execution_count": 68,
     "metadata": {},
     "output_type": "execute_result"
    }
   ],
   "source": [
    "text='%bhasb676773hhsdhhhGFfsgRRTttz'\n",
    "\n",
    "any([i.islower() for i in text])"
   ]
  },
  {
   "cell_type": "code",
   "execution_count": 83,
   "metadata": {},
   "outputs": [
    {
     "data": {
      "text/plain": [
       "<generator object <genexpr> at 0x7f51eca60e50>"
      ]
     },
     "execution_count": 83,
     "metadata": {},
     "output_type": "execute_result"
    }
   ],
   "source": [
    "(print (i) for i in text if ord(i)>=97 and ord(i)<=123)\n",
    "     "
   ]
  },
  {
   "cell_type": "code",
   "execution_count": 95,
   "metadata": {},
   "outputs": [
    {
     "name": "stdout",
     "output_type": "stream",
     "text": [
      "There are either one or more lower case words\n"
     ]
    }
   ],
   "source": [
    "ctr=0\n",
    "for i in text:\n",
    "    if ord(i)>=97 and ord(i)<=123:\n",
    "        ctr+=1\n",
    "        \n",
    "if ctr!=0:\n",
    "    print('There are either one or more lower case words')"
   ]
  },
  {
   "cell_type": "raw",
   "metadata": {},
   "source": [
    "129-Write a Python program to add leading zeroes to a string."
   ]
  },
  {
   "cell_type": "code",
   "execution_count": 98,
   "metadata": {},
   "outputs": [
    {
     "data": {
      "text/plain": [
       "'8777.210'"
      ]
     },
     "execution_count": 98,
     "metadata": {},
     "output_type": "execute_result"
    }
   ],
   "source": [
    "str1='8777.21'\n",
    "str1.ljust(8, '0')"
   ]
  },
  {
   "cell_type": "code",
   "execution_count": 99,
   "metadata": {},
   "outputs": [
    {
     "data": {
      "text/plain": [
       "'8777.21000'"
      ]
     },
     "execution_count": 99,
     "metadata": {},
     "output_type": "execute_result"
    }
   ],
   "source": [
    "str1.ljust(10,'0')"
   ]
  },
  {
   "cell_type": "raw",
   "metadata": {},
   "source": [
    "130-Write a Python program to use double quotes to display strings."
   ]
  },
  {
   "cell_type": "code",
   "execution_count": 1,
   "metadata": {},
   "outputs": [
    {
     "name": "stdout",
     "output_type": "stream",
     "text": [
      "{\"Alex\": 1, \"Suresh\": 2, \"Agnessa\": 3}\n"
     ]
    }
   ],
   "source": [
    "import json\n",
    "print(json.dumps({'Alex': 1, 'Suresh': 2, 'Agnessa': 3}))"
   ]
  },
  {
   "cell_type": "code",
   "execution_count": 7,
   "metadata": {},
   "outputs": [
    {
     "name": "stdout",
     "output_type": "stream",
     "text": [
      "{\"alex\": 2}\n"
     ]
    }
   ],
   "source": [
    "print(json.dumps({'alex':2}))"
   ]
  },
  {
   "cell_type": "code",
   "execution_count": 8,
   "metadata": {},
   "outputs": [
    {
     "name": "stdout",
     "output_type": "stream",
     "text": [
      "\"Alex\"\n"
     ]
    }
   ],
   "source": [
    "print(json.dumps('Alex'))"
   ]
  },
  {
   "cell_type": "raw",
   "metadata": {},
   "source": [
    "131-Write a Python program to split a variable length string into variables"
   ]
  },
  {
   "cell_type": "code",
   "execution_count": 10,
   "metadata": {},
   "outputs": [],
   "source": [
    "var_list=['a', 'b', 'c']\n",
    "x, y, z=var_list"
   ]
  },
  {
   "cell_type": "code",
   "execution_count": 11,
   "metadata": {},
   "outputs": [
    {
     "name": "stdout",
     "output_type": "stream",
     "text": [
      "a b c\n"
     ]
    }
   ],
   "source": [
    "print(x, y, z)"
   ]
  },
  {
   "cell_type": "raw",
   "metadata": {},
   "source": [
    "132- Write a Python program to calculate the time runs (difference between start and current time)of a program."
   ]
  },
  {
   "cell_type": "code",
   "execution_count": 12,
   "metadata": {},
   "outputs": [],
   "source": [
    "import time\n",
    "\n",
    "start_time= time.time()\n",
    "\n",
    "total_time=start_time - time.time()"
   ]
  },
  {
   "cell_type": "code",
   "execution_count": 13,
   "metadata": {},
   "outputs": [
    {
     "data": {
      "text/plain": [
       "-2.6226043701171875e-05"
      ]
     },
     "execution_count": 13,
     "metadata": {},
     "output_type": "execute_result"
    }
   ],
   "source": [
    "total_time"
   ]
  },
  {
   "cell_type": "raw",
   "metadata": {},
   "source": [
    "133- Write a Python program to input two integers in a single line."
   ]
  },
  {
   "cell_type": "raw",
   "metadata": {},
   "source": [
    "The map() function executes a specified function for each item in an iterable. \n",
    "The item is sent to the function as a parameter.\n",
    "\n",
    "map(function, iterables)"
   ]
  },
  {
   "cell_type": "code",
   "execution_count": 18,
   "metadata": {},
   "outputs": [],
   "source": [
    "def myfunc(n):\n",
    "    print(len(n))\n"
   ]
  },
  {
   "cell_type": "code",
   "execution_count": 20,
   "metadata": {},
   "outputs": [
    {
     "data": {
      "text/plain": [
       "<map at 0x7fb0c4b91590>"
      ]
     },
     "execution_count": 20,
     "metadata": {},
     "output_type": "execute_result"
    }
   ],
   "source": [
    "x=map(myfunc, ('apple', 'banana', 'cherry'))"
   ]
  },
  {
   "cell_type": "code",
   "execution_count": 21,
   "metadata": {},
   "outputs": [
    {
     "name": "stdout",
     "output_type": "stream",
     "text": [
      "5\n",
      "None\n",
      "6\n",
      "None\n",
      "6\n",
      "None\n"
     ]
    }
   ],
   "source": [
    "for i in x:\n",
    "    print(i)"
   ]
  },
  {
   "cell_type": "markdown",
   "metadata": {},
   "source": [
    "# BAsic 2"
   ]
  },
  {
   "cell_type": "raw",
   "metadata": {},
   "source": [
    "1-Write a Python function that takes a sequence of numbers and determines\n",
    "whether all the numbers are different from each other.#\n",
    "\n",
    "\n",
    "Set items are unordered, unchangeable, and do not allow duplicate values\n",
    "thisset = {\"apple\", \"banana\", \"cherry\", \"apple\"}"
   ]
  },
  {
   "cell_type": "code",
   "execution_count": 8,
   "metadata": {},
   "outputs": [],
   "source": [
    "def check_num(data):\n",
    "    if len(data)==len(set(data)):\n",
    "        return True\n",
    "    else:\n",
    "        return False"
   ]
  },
  {
   "cell_type": "code",
   "execution_count": 10,
   "metadata": {},
   "outputs": [
    {
     "data": {
      "text/plain": [
       "False"
      ]
     },
     "execution_count": 10,
     "metadata": {},
     "output_type": "execute_result"
    }
   ],
   "source": [
    "check_num([2, 3, 4, 4, 5, 6, 7, 8])"
   ]
  },
  {
   "cell_type": "raw",
   "metadata": {},
   "source": [
    "2-Write a Python program to create all possible strings by using 'a', 'e', 'i', 'o', 'u'. Use the characters exactly once."
   ]
  },
  {
   "cell_type": "code",
   "execution_count": 26,
   "metadata": {},
   "outputs": [
    {
     "name": "stdout",
     "output_type": "stream",
     "text": [
      "{'aiueo', 'eaiou', 'iuoea', 'oeuia', 'iaoeu', 'iauoe', 'oauei', 'eoiua', 'uoeai', 'oaieu', 'eoaui', 'ieauo', 'auoie', 'eouai', 'oueai', 'auieo', 'eaiuo', 'aoeui', 'eaoiu', 'oaiue', 'uaeoi', 'oauie', 'oiaeu', 'oiaue', 'aieou', 'ueoai', 'eiuoa', 'eioau', 'aueio', 'oiuae', 'aeiuo', 'uoeia', 'iuaeo', 'ieuoa', 'iaoue', 'iouea', 'uaioe', 'uaoie', 'eioua', 'auioe', 'aeuoi', 'ueoia', 'eouia', 'aeoiu', 'eiuao', 'iaeuo', 'oeaiu', 'oeiau', 'aueoi', 'aouie', 'uioea', 'aeuio', 'uoiae', 'aioeu', 'aoiue', 'aeoui', 'ueiao', 'uoiea', 'uoaei', 'eiauo', 'aoieu', 'eauio', 'oiuea', 'uioae', 'uoaie', 'aiuoe', 'ioeau', 'iaueo', 'euaoi', 'iueao', 'eauoi', 'euiao', 'aeiou', 'oeiua', 'iuaoe', 'aieuo', 'ouaei', 'ieaou', 'eaoui', 'oeaui', 'ieoua', 'ueaoi', 'uaoei', 'ioeua', 'ioaeu', 'ouiae', 'ioaue', 'oaeiu', 'euoai', 'oueia', 'aioue', 'eoaiu', 'eiaou', 'iueoa', 'uieoa', 'euoia', 'ouaie', 'oieau', 'ieoau', 'auoei', 'ueaio', 'iuoae', 'aoeiu', 'uieao', 'oieua', 'uaieo', 'ouiea', 'oaeui', 'uaeio', 'uiaeo', 'uiaoe', 'iouae', 'eoiau', 'euaio', 'euioa', 'ueioa', 'oeuai', 'iaeou', 'ieuao', 'aouei'}\n"
     ]
    }
   ],
   "source": [
    "import random\n",
    "char_list=['a', 'e', 'o', 'i', 'u']\n",
    "d=[]\n",
    "for i in range(100000):\n",
    "    random.shuffle(char_list)\n",
    "    d.append(''.join(char_list))\n",
    "\n",
    "print(set(d))"
   ]
  },
  {
   "cell_type": "code",
   "execution_count": 27,
   "metadata": {},
   "outputs": [
    {
     "data": {
      "text/plain": [
       "10000000"
      ]
     },
     "execution_count": 27,
     "metadata": {},
     "output_type": "execute_result"
    }
   ],
   "source": [
    "len(d)"
   ]
  },
  {
   "cell_type": "raw",
   "metadata": {},
   "source": [
    "3-Write a Python program to remove and print every third number from a list of numbers until the list becomes empty."
   ]
  },
  {
   "cell_type": "code",
   "execution_count": 63,
   "metadata": {},
   "outputs": [],
   "source": [
    "def Empty(data):\n",
    "    while len(data)>0:\n",
    "        if len(data)>=3:\n",
    "            s=data.pop(2)\n",
    "            print(s)\n",
    "        elif len(data)<3 and len(data)>0:\n",
    "            s=data.pop()\n",
    "            print(s)\n",
    "        else:\n",
    "            break"
   ]
  },
  {
   "cell_type": "code",
   "execution_count": 64,
   "metadata": {},
   "outputs": [
    {
     "name": "stdout",
     "output_type": "stream",
     "text": [
      "30\n",
      "40\n",
      "50\n",
      "60\n",
      "70\n",
      "80\n",
      "90\n",
      "20\n",
      "10\n"
     ]
    }
   ],
   "source": [
    "Empty([10, 20, 30, 40, 50, 60, 70, 80, 90])"
   ]
  },
  {
   "cell_type": "raw",
   "metadata": {},
   "source": [
    "4-Write a Python program to find unique triplets whose three elements gives the sum of zero from an array of n integers.\n"
   ]
  },
  {
   "cell_type": "code",
   "execution_count": 65,
   "metadata": {},
   "outputs": [
    {
     "name": "stdout",
     "output_type": "stream",
     "text": [
      "[(-6, 2, 4)]\n"
     ]
    }
   ],
   "source": [
    "def three_sum(nums):\n",
    "  result = []\n",
    "  nums.sort()\n",
    "  for i in range(len(nums)-2):\n",
    "    if i> 0 and nums[i] == nums[i-1]:\n",
    "      continue\n",
    "    l, r = i+1, len(nums)-1\n",
    "    while l < r:\n",
    "      s = nums[i] + nums[l] + nums[r]\n",
    "      if s > 0:\n",
    "        r -= 1\n",
    "      elif s < 0:\n",
    "          l += 1\n",
    "      else:\n",
    "        # found three sum\n",
    "        result.append((nums[i], nums[l], nums[r]))\n",
    "        # remove duplicates\n",
    "        while l < r and nums[l] == nums[l+1]:\n",
    "          l+=1\n",
    "          while l < r and nums[r] == nums[r-1]:\n",
    "            r -= 1\n",
    "            l += 1\n",
    "            r -= 1\n",
    "          return result\n",
    "\n",
    "x = [1, -6, 4, 2, -1, 2, 0, -2, 0 ]\n",
    "print(three_sum(x))"
   ]
  },
  {
   "cell_type": "raw",
   "metadata": {},
   "source": [
    "5-Write a Python program to create the combinations of 3 digit combo."
   ]
  },
  {
   "cell_type": "code",
   "execution_count": 76,
   "metadata": {},
   "outputs": [
    {
     "name": "stdout",
     "output_type": "stream",
     "text": [
      "999999\n"
     ]
    }
   ],
   "source": [
    "numbers = []\n",
    "for num in range(1000000):\n",
    "  num=str(num).zfill(2)\n",
    "print(num)\n",
    "numbers.append(num)"
   ]
  },
  {
   "cell_type": "raw",
   "metadata": {},
   "source": [
    "6-Write a Python program to check the sum of three elements (each from an array) from three arrays is equal to a target value. Print all those three-element combinations.\n",
    "\n",
    "Sample data:\n",
    "/*\n",
    "X = [10, 20, 20, 20]\n",
    "Y = [10, 20, 30, 40]\n",
    "Z = [10, 30, 40, 20]\n",
    "target = 70\n",
    "*/"
   ]
  },
  {
   "cell_type": "code",
   "execution_count": 78,
   "metadata": {},
   "outputs": [
    {
     "name": "stdout",
     "output_type": "stream",
     "text": [
      "10 20 40\n",
      "10 30 30\n",
      "10 40 20\n",
      "20 10 40\n",
      "20 20 30\n",
      "20 30 20\n",
      "20 40 10\n",
      "20 10 40\n",
      "20 20 30\n",
      "20 30 20\n",
      "20 40 10\n",
      "20 10 40\n",
      "20 20 30\n",
      "20 30 20\n",
      "20 40 10\n"
     ]
    }
   ],
   "source": [
    "X = [10, 20, 20, 20]\n",
    "Y = [10, 20, 30, 40]\n",
    "Z = [10, 30, 40, 20]\n",
    "target = 70\n",
    "\n",
    "for i in X:\n",
    "    for j in Y:\n",
    "        for s in Z:\n",
    "            if i+j+s== target:\n",
    "                print(i,j,s)"
   ]
  },
  {
   "cell_type": "raw",
   "metadata": {},
   "source": [
    "7-Write a Python program to create all possible permutations from a given collection of distinct numbers.\n",
    "\n"
   ]
  },
  {
   "cell_type": "code",
   "execution_count": 81,
   "metadata": {},
   "outputs": [],
   "source": [
    "def permute(nums):\n",
    "    result_perms = [[]]\n",
    "    for n in nums:\n",
    "        new_perms = []\n",
    "        for perm in result_perms:\n",
    "             for i in range(len(perm)+1):\n",
    "                new_perms.append(perm[:i] + [n] + perm[i:])\n",
    "                result_perms = new_perms\n",
    "    return result_perms\n",
    "\n"
   ]
  },
  {
   "cell_type": "code",
   "execution_count": 82,
   "metadata": {},
   "outputs": [
    {
     "name": "stdout",
     "output_type": "stream",
     "text": [
      "Original Cofllection:  [1, 2, 3]\n",
      "Collection of distinct numbers:\n",
      " [[3, 2, 1], [2, 3, 1], [2, 1, 3], [3, 1, 2], [1, 3, 2], [1, 2, 3]]\n"
     ]
    }
   ],
   "source": [
    "my_nums = [1,2,3]\n",
    "print(\"Original Cofllection: \",my_nums)\n",
    "print(\"Collection of distinct numbers:\\n\",permute(my_nums))"
   ]
  },
  {
   "cell_type": "raw",
   "metadata": {},
   "source": [
    "Q11- Write a Python program to check the sum of three elements (each from an array) from three arrays is equal to a target value. Print all those three-element combinations.\n",
    "X = [10, 20, 20, 20]\n",
    "Y = [10, 20, 30, 40]\n",
    "Z = [10, 30, 40, 20]\n",
    "target = 70"
   ]
  },
  {
   "cell_type": "code",
   "execution_count": 2,
   "metadata": {},
   "outputs": [
    {
     "name": "stdout",
     "output_type": "stream",
     "text": [
      "(10 + 20 + 40) = 70\n",
      "(10 + 30 + 30) = 70\n",
      "(10 + 40 + 20) = 70\n",
      "(20 + 10 + 40) = 70\n",
      "(20 + 20 + 30) = 70\n",
      "(20 + 30 + 20) = 70\n",
      "(20 + 40 + 10) = 70\n",
      "(20 + 10 + 40) = 70\n",
      "(20 + 20 + 30) = 70\n",
      "(20 + 30 + 20) = 70\n",
      "(20 + 40 + 10) = 70\n",
      "(20 + 10 + 40) = 70\n",
      "(20 + 20 + 30) = 70\n",
      "(20 + 30 + 20) = 70\n",
      "(20 + 40 + 10) = 70\n"
     ]
    }
   ],
   "source": [
    "X = [10, 20, 20, 20]\n",
    "Y = [10, 20, 30, 40]\n",
    "Z = [10, 30, 40, 20]\n",
    "target = 70\n",
    "\n",
    "for i in X:\n",
    "    for j in Y:\n",
    "        for k in Z:\n",
    "            if i+j+k== target:\n",
    "                print(f'({i} + {j} + {k}) = {target}')"
   ]
  },
  {
   "cell_type": "raw",
   "metadata": {},
   "source": [
    "Q12-Write a Python program to create all possible permutations from a given collection of distinct numbers."
   ]
  },
  {
   "cell_type": "code",
   "execution_count": 5,
   "metadata": {},
   "outputs": [
    {
     "name": "stdout",
     "output_type": "stream",
     "text": [
      "Original Cofllection:  [1, 2, 3]\n",
      "Collection of distinct numbers:\n",
      " [[3, 2, 1], [2, 3, 1], [2, 1, 3], [3, 1, 2], [1, 3, 2], [1, 2, 3]]\n"
     ]
    }
   ],
   "source": [
    "def permute(nums):\n",
    "    result_perms = [[]]\n",
    "    for n in nums:\n",
    "        new_perms = []\n",
    "        for perm in result_perms:\n",
    "            for i in range(len(perm)+1):\n",
    "                new_perms.append(perm[:i] + [n] + perm[i:])\n",
    "                result_perms = new_perms\n",
    "    return result_perms\n",
    "\n",
    "my_nums = [1,2,3]\n",
    "print(\"Original Cofllection: \",my_nums)\n",
    "print(\"Collection of distinct numbers:\\n\",permute(my_nums))\n",
    "    "
   ]
  },
  {
   "cell_type": "raw",
   "metadata": {},
   "source": [
    "Q-13: Write a Python program to get all possible two digit letter combinations from a digit (1 to 9) string.\n",
    "\n",
    "string_maps = {\n",
    "\"1\": \"abc\",\n",
    "\"2\": \"def\",\n",
    "\"3\": \"ghi\",\n",
    "\"4\": \"jkl\",\n",
    "\"5\": \"mno\",\n",
    "\"6\": \"pqrs\",\n",
    "\"7\": \"tuv\",\n",
    "\"8\": \"wxy\",\n",
    "\"9\": \"z\""
   ]
  },
  {
   "cell_type": "code",
   "execution_count": null,
   "metadata": {},
   "outputs": [],
   "source": [
    ":\n",
    ":\n",
    ":\n",
    "    "
   ]
  },
  {
   "cell_type": "raw",
   "metadata": {},
   "source": [
    "Q14-Write a Python program to add two positive integers without using the '+' operator.\n",
    "\n",
    "Note: Use bitwise operations to add two numbers.\n",
    "    "
   ]
  },
  {
   "cell_type": "code",
   "execution_count": 14,
   "metadata": {},
   "outputs": [
    {
     "data": {
      "text/plain": [
       "12"
      ]
     },
     "execution_count": 14,
     "metadata": {},
     "output_type": "execute_result"
    }
   ],
   "source": [
    "def two_numb(a, b):\n",
    "    a= a^b\n",
    "    return a\n",
    "\n",
    "two_numb(8,4)"
   ]
  },
  {
   "cell_type": "raw",
   "metadata": {},
   "source": [
    "Q15-Write a Python program to get the third side of right angled triangle from two given sides.\n",
    "\n",
    "Note: Use bitwise operations to add two numbers."
   ]
  },
  {
   "cell_type": "code",
   "execution_count": 24,
   "metadata": {},
   "outputs": [],
   "source": [
    "import numpy as np"
   ]
  },
  {
   "cell_type": "code",
   "execution_count": 26,
   "metadata": {},
   "outputs": [
    {
     "data": {
      "text/plain": [
       "5.0"
      ]
     },
     "execution_count": 26,
     "metadata": {},
     "output_type": "execute_result"
    }
   ],
   "source": [
    "def triangle(a,b):\n",
    "    c= np.sqrt(a**2 + b**2)\n",
    "    return c\n",
    "\n",
    "triangle(3,4)"
   ]
  },
  {
   "cell_type": "raw",
   "metadata": {},
   "source": [
    "Q19: Write a Python program to find the median among three given numbers."
   ]
  },
  {
   "cell_type": "code",
   "execution_count": 11,
   "metadata": {},
   "outputs": [],
   "source": [
    "import numpy as np\n",
    "def median(a):\n",
    "    a=np.sort(a)\n",
    "    return a[1]"
   ]
  },
  {
   "cell_type": "code",
   "execution_count": 12,
   "metadata": {},
   "outputs": [
    {
     "data": {
      "text/plain": [
       "21"
      ]
     },
     "execution_count": 12,
     "metadata": {},
     "output_type": "execute_result"
    }
   ],
   "source": [
    "median([21, 12, 35])"
   ]
  },
  {
   "cell_type": "raw",
   "metadata": {},
   "source": [
    "Q20: Write a Python program to find the value of n where n degrees of number 2 are written sequentially in a line without spaces."
   ]
  },
  {
   "cell_type": "code",
   "execution_count": 30,
   "metadata": {},
   "outputs": [
    {
     "name": "stdout",
     "output_type": "stream",
     "text": [
      "5\n",
      "6\n"
     ]
    }
   ],
   "source": [
    "def ndegrees(num):\n",
    "  ans = True\n",
    "  n, tempn, i = 2, 2, 2\n",
    "  while ans:\n",
    "    if str(tempn) in num:\n",
    "      i += 1\n",
    "      tempn = pow(n, i)\n",
    "    else:\n",
    "      ans = False\n",
    "  return i-1;\n",
    "print(ndegrees(\"2481632\"))\n",
    "print(ndegrees(\"248163264\"))"
   ]
  },
  {
   "cell_type": "code",
   "execution_count": 31,
   "metadata": {},
   "outputs": [
    {
     "ename": "NameError",
     "evalue": "name 'python' is not defined",
     "output_type": "error",
     "traceback": [
      "\u001b[0;31m---------------------------------------------------------------------------\u001b[0m",
      "\u001b[0;31mNameError\u001b[0m                                 Traceback (most recent call last)",
      "\u001b[0;32m<ipython-input-31-a4637bbefc43>\u001b[0m in \u001b[0;36m<module>\u001b[0;34m\u001b[0m\n\u001b[0;32m----> 1\u001b[0;31m \u001b[0mpython\u001b[0m \u001b[0;34m-\u001b[0m\u001b[0;34m-\u001b[0m\u001b[0mversion\u001b[0m\u001b[0;34m\u001b[0m\u001b[0;34m\u001b[0m\u001b[0m\n\u001b[0m",
      "\u001b[0;31mNameError\u001b[0m: name 'python' is not defined"
     ]
    }
   ],
   "source": []
  },
  {
   "cell_type": "code",
   "execution_count": null,
   "metadata": {},
   "outputs": [],
   "source": []
  }
 ],
 "metadata": {
  "kernelspec": {
   "display_name": "Python 3 (ipykernel)",
   "language": "python",
   "name": "python3"
  },
  "language_info": {
   "codemirror_mode": {
    "name": "ipython",
    "version": 3
   },
   "file_extension": ".py",
   "mimetype": "text/x-python",
   "name": "python",
   "nbconvert_exporter": "python",
   "pygments_lexer": "ipython3",
   "version": "3.7.13"
  }
 },
 "nbformat": 4,
 "nbformat_minor": 4
}
